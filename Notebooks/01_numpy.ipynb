{
 "cells": [
  {
   "cell_type": "markdown",
   "metadata": {},
   "source": [
    "# Exercícios Numpy Array"
   ]
  },
  {
   "cell_type": "markdown",
   "metadata": {},
   "source": [
    "* Atributos retornam algo que a array já possui, é como se apenas perguntássemos sobre algum atributo da array.\n",
    "* Métodos são funções, aplicam alguma transformação à array"
   ]
  },
  {
   "cell_type": "code",
   "execution_count": 64,
   "metadata": {},
   "outputs": [],
   "source": [
    "#Crie um vetor de 100 elementos usando a função linspace\n",
    "import numpy as np\n",
    "a = np.linspace(0,100,100)"
   ]
  },
  {
   "cell_type": "code",
   "execution_count": 65,
   "metadata": {},
   "outputs": [
    {
     "data": {
      "text/plain": [
       "(100,)"
      ]
     },
     "execution_count": 65,
     "metadata": {},
     "output_type": "execute_result"
    }
   ],
   "source": [
    "#imprimir o shape da array\n",
    "a.shape"
   ]
  },
  {
   "cell_type": "code",
   "execution_count": 66,
   "metadata": {},
   "outputs": [
    {
     "data": {
      "text/plain": [
       "(10, 10)"
      ]
     },
     "execution_count": 66,
     "metadata": {},
     "output_type": "execute_result"
    }
   ],
   "source": [
    "#Transforme em um array bidimensional (10x10)\n",
    "a = a.reshape(10,10)\n",
    "a.shape"
   ]
  },
  {
   "cell_type": "code",
   "execution_count": 67,
   "metadata": {},
   "outputs": [
    {
     "data": {
      "text/plain": [
       "99"
      ]
     },
     "execution_count": 67,
     "metadata": {},
     "output_type": "execute_result"
    }
   ],
   "source": [
    "#Qual a posição do maior valor? \n",
    "a.argmax()"
   ]
  },
  {
   "cell_type": "code",
   "execution_count": 68,
   "metadata": {},
   "outputs": [
    {
     "data": {
      "text/plain": [
       "5000.000000000001"
      ]
     },
     "execution_count": 68,
     "metadata": {},
     "output_type": "execute_result"
    }
   ],
   "source": [
    "#Some todos os elementos\n",
    "soma = a.sum()\n",
    "soma"
   ]
  },
  {
   "cell_type": "code",
   "execution_count": 69,
   "metadata": {},
   "outputs": [
    {
     "data": {
      "text/plain": [
       "array([454.54545455, 464.64646465, 474.74747475, 484.84848485,\n",
       "       494.94949495, 505.05050505, 515.15151515, 525.25252525,\n",
       "       535.35353535, 545.45454545])"
      ]
     },
     "execution_count": 69,
     "metadata": {},
     "output_type": "execute_result"
    }
   ],
   "source": [
    "#Some todos os elementos linha a linha\n",
    "somalinha = a.sum(axis=0)\n",
    "somalinha"
   ]
  },
  {
   "cell_type": "code",
   "execution_count": 70,
   "metadata": {},
   "outputs": [
    {
     "data": {
      "text/plain": [
       "(100,)"
      ]
     },
     "execution_count": 70,
     "metadata": {},
     "output_type": "execute_result"
    }
   ],
   "source": [
    "#Transforme a matriz em um vetor novamente\n",
    "a = a.reshape(100,)\n",
    "a.shape"
   ]
  },
  {
   "cell_type": "markdown",
   "metadata": {},
   "source": [
    "## Exercício 2\n",
    "Crie uma função que recebe uma matriz de convariância e retorna a matriz C de krigagem ordinária"
   ]
  },
  {
   "cell_type": "code",
   "execution_count": 109,
   "metadata": {},
   "outputs": [],
   "source": [
    "#Matriz de covariância\n",
    "cov = np.array([[1, 10, 11],\n",
    "               [10, 1, 12],\n",
    "               [13, 11, 1]])"
   ]
  },
  {
   "cell_type": "code",
   "execution_count": 110,
   "metadata": {},
   "outputs": [],
   "source": [
    "#Função que retornará a matriz e krigagem ordinária\n",
    "def mat_c(cov):\n",
    "    cov_shape = cov.shape\n",
    "    C_shape = (cov_shape[0]+1, cov_shape[1]+1)\n",
    "    C = np.ones(C_shape)\n",
    "    C[C_shape[0]-1, C_shape[1]-1] = 0\n",
    "    C[:-1,:-1] = cov\n",
    "    return C"
   ]
  },
  {
   "cell_type": "code",
   "execution_count": 111,
   "metadata": {},
   "outputs": [
    {
     "data": {
      "text/plain": [
       "array([[ 1., 10., 11.,  1.],\n",
       "       [10.,  1., 12.,  1.],\n",
       "       [13., 11.,  1.,  1.],\n",
       "       [ 1.,  1.,  1.,  0.]])"
      ]
     },
     "execution_count": 111,
     "metadata": {},
     "output_type": "execute_result"
    }
   ],
   "source": [
    "#Chamando a função\n",
    "mat_c(cov)"
   ]
  },
  {
   "cell_type": "markdown",
   "metadata": {},
   "source": [
    "## Exercício 3\n",
    "Itere e printe cada item de um array que a função do exercício anterior retornou"
   ]
  },
  {
   "cell_type": "code",
   "execution_count": 119,
   "metadata": {},
   "outputs": [
    {
     "name": "stdout",
     "output_type": "stream",
     "text": [
      "1.0\n",
      "10.0\n",
      "11.0\n",
      "1.0\n",
      "10.0\n",
      "1.0\n",
      "12.0\n",
      "1.0\n",
      "13.0\n",
      "11.0\n",
      "1.0\n",
      "1.0\n",
      "1.0\n",
      "1.0\n",
      "1.0\n",
      "0.0\n"
     ]
    }
   ],
   "source": [
    "C = mat_c(cov)\n",
    "for i in C.flat: #Usando o C.flat itera-se elemento a elemento, na matriz C inteira\n",
    "    print(i)"
   ]
  },
  {
   "cell_type": "markdown",
   "metadata": {},
   "source": [
    "# Exercício 4"
   ]
  },
  {
   "cell_type": "code",
   "execution_count": 183,
   "metadata": {},
   "outputs": [
    {
     "data": {
      "text/plain": [
       "array([0, 1, 2, 3, 4, 5, 6, 7, 8, 9])"
      ]
     },
     "execution_count": 183,
     "metadata": {},
     "output_type": "execute_result"
    }
   ],
   "source": [
    "#Crie um vetor que seja uma sequencia de dez numeros\n",
    "a = np.arange(0,10,1)\n",
    "a"
   ]
  },
  {
   "cell_type": "code",
   "execution_count": 184,
   "metadata": {},
   "outputs": [
    {
     "data": {
      "text/plain": [
       "array([11, 12, 13, 14, 15, 16, 17, 18, 19, 20])"
      ]
     },
     "execution_count": 184,
     "metadata": {},
     "output_type": "execute_result"
    }
   ],
   "source": [
    "#Crie outro vetor que seja outra sequencia de dez numeros\n",
    "b = np.arange(11,21,1)\n",
    "b"
   ]
  },
  {
   "cell_type": "code",
   "execution_count": 185,
   "metadata": {},
   "outputs": [
    {
     "data": {
      "text/plain": [
       "array([[ 0,  1,  2,  3,  4,  5,  6,  7,  8,  9],\n",
       "       [11, 12, 13, 14, 15, 16, 17, 18, 19, 20]])"
      ]
     },
     "execution_count": 185,
     "metadata": {},
     "output_type": "execute_result"
    }
   ],
   "source": [
    "#Empilhe os dois vetores em uma array bidimensional\n",
    "c = np.vstack((a,b))\n",
    "c"
   ]
  },
  {
   "cell_type": "code",
   "execution_count": 186,
   "metadata": {},
   "outputs": [
    {
     "data": {
      "text/plain": [
       "(2, 10)"
      ]
     },
     "execution_count": 186,
     "metadata": {},
     "output_type": "execute_result"
    }
   ],
   "source": [
    "#Imprima o shape\n",
    "c.shape"
   ]
  },
  {
   "cell_type": "code",
   "execution_count": 144,
   "metadata": {},
   "outputs": [
    {
     "data": {
      "text/plain": [
       "array([0., 0., 0., 0., 0., 0., 0., 0., 0., 0.])"
      ]
     },
     "execution_count": 144,
     "metadata": {},
     "output_type": "execute_result"
    }
   ],
   "source": [
    "#Insira uma linha de apenas zeros\n",
    "z = np.zeros(10,)\n",
    "z"
   ]
  },
  {
   "cell_type": "code",
   "execution_count": 156,
   "metadata": {},
   "outputs": [],
   "source": [
    "z = z.reshape(1,10)"
   ]
  },
  {
   "cell_type": "code",
   "execution_count": 157,
   "metadata": {},
   "outputs": [
    {
     "data": {
      "text/plain": [
       "array([[ 0.,  1.,  2.,  3.,  4.,  5.,  6.,  7.,  8.,  9.],\n",
       "       [11., 12., 13., 14., 15., 16., 17., 18., 19., 20.],\n",
       "       [ 0.,  0.,  0.,  0.,  0.,  0.,  0.,  0.,  0.,  0.]])"
      ]
     },
     "execution_count": 157,
     "metadata": {},
     "output_type": "execute_result"
    }
   ],
   "source": [
    "d = np.vstack((c,z))\n",
    "d"
   ]
  },
  {
   "cell_type": "code",
   "execution_count": 167,
   "metadata": {},
   "outputs": [
    {
     "data": {
      "text/plain": [
       "array([[ 0.,  1.,  2.,  3.,  4.,  5.,  6.,  7.,  8.,  9.],\n",
       "       [11., 12., 13., 14., 15., 16., 17., 18., 19., 20.],\n",
       "       [ 0.,  0.,  0.,  0.,  0.,  0.,  0.,  0.,  0.,  0.]])"
      ]
     },
     "execution_count": 167,
     "metadata": {},
     "output_type": "execute_result"
    }
   ],
   "source": [
    "d = np.append(c, z, 0)\n",
    "d"
   ]
  },
  {
   "cell_type": "code",
   "execution_count": 187,
   "metadata": {},
   "outputs": [
    {
     "data": {
      "text/plain": [
       "array([[ 0.,  1.,  2.,  3.,  4.,  5.,  6.,  7.,  8.,  9.],\n",
       "       [ 1.,  1.,  1.,  1.,  1.,  1.,  1.,  1.,  1.,  1.],\n",
       "       [11., 12., 13., 14., 15., 16., 17., 18., 19., 20.],\n",
       "       [ 0.,  0.,  0.,  0.,  0.,  0.,  0.,  0.,  0.,  0.]])"
      ]
     },
     "execution_count": 187,
     "metadata": {},
     "output_type": "execute_result"
    }
   ],
   "source": [
    "#Insira uma linha de uns na segunda posição\n",
    "o = np.ones((1,10))\n",
    "f = np.insert(d, 1, o, axis=0)\n",
    "f"
   ]
  },
  {
   "cell_type": "markdown",
   "metadata": {},
   "source": [
    "# Exercicio 7"
   ]
  },
  {
   "cell_type": "code",
   "execution_count": 202,
   "metadata": {},
   "outputs": [
    {
     "data": {
      "text/plain": [
       "array([0.3837658 , 0.39041626, 0.70756456, 0.49703411, 0.71068121,\n",
       "       0.36170987, 0.51676607, 0.05281191, 0.19634888, 0.5746547 ])"
      ]
     },
     "execution_count": 202,
     "metadata": {},
     "output_type": "execute_result"
    }
   ],
   "source": [
    "ferro = np.random.random(10)\n",
    "ferro\n"
   ]
  },
  {
   "cell_type": "code",
   "execution_count": 203,
   "metadata": {},
   "outputs": [
    {
     "data": {
      "text/plain": [
       "0.03931607876429747"
      ]
     },
     "execution_count": 203,
     "metadata": {},
     "output_type": "execute_result"
    }
   ],
   "source": [
    "ferro.var()"
   ]
  },
  {
   "cell_type": "code",
   "execution_count": 204,
   "metadata": {},
   "outputs": [
    {
     "data": {
      "text/plain": [
       "0.43917533685282295"
      ]
     },
     "execution_count": 204,
     "metadata": {},
     "output_type": "execute_result"
    }
   ],
   "source": [
    "ferro.mean()"
   ]
  },
  {
   "cell_type": "code",
   "execution_count": 206,
   "metadata": {},
   "outputs": [
    {
     "data": {
      "text/plain": [
       "array([0.70756456, 0.49703411, 0.71068121, 0.51676607, 0.5746547 ])"
      ]
     },
     "execution_count": 206,
     "metadata": {},
     "output_type": "execute_result"
    }
   ],
   "source": [
    "filtro = ferro > np.mean(ferro)\n",
    "ferro[filtro]"
   ]
  },
  {
   "cell_type": "code",
   "execution_count": 207,
   "metadata": {},
   "outputs": [],
   "source": [
    "p80 = np.percentile?"
   ]
  },
  {
   "cell_type": "code",
   "execution_count": 209,
   "metadata": {},
   "outputs": [
    {
     "data": {
      "text/plain": [
       "0.6012366724565652"
      ]
     },
     "execution_count": 209,
     "metadata": {},
     "output_type": "execute_result"
    }
   ],
   "source": [
    "p80 = np.percentile(ferro, 80)\n",
    "p80"
   ]
  },
  {
   "cell_type": "code",
   "execution_count": 210,
   "metadata": {},
   "outputs": [],
   "source": [
    "fecap = np.where(ferro<p80, ferro, p80)"
   ]
  },
  {
   "cell_type": "code",
   "execution_count": 211,
   "metadata": {},
   "outputs": [
    {
     "data": {
      "text/plain": [
       "array([0.3837658 , 0.39041626, 0.60123667, 0.49703411, 0.60123667,\n",
       "       0.36170987, 0.51676607, 0.05281191, 0.19634888, 0.5746547 ])"
      ]
     },
     "execution_count": 211,
     "metadata": {},
     "output_type": "execute_result"
    }
   ],
   "source": [
    "fecap"
   ]
  },
  {
   "cell_type": "markdown",
   "metadata": {},
   "source": [
    "# Exercício das eleições"
   ]
  },
  {
   "cell_type": "code",
   "execution_count": 217,
   "metadata": {},
   "outputs": [],
   "source": [
    "def eleicao(candidatos, num_votos):\n",
    "    votos = np.random.choice(candidatos, num_votos)\n",
    "    resultado = {}\n",
    "    for c in candidatos:\n",
    "        num_votos = votos.tolist().count(c)\n",
    "        resultado[c] = num_votos\n",
    "    return resultado"
   ]
  },
  {
   "cell_type": "code",
   "execution_count": 218,
   "metadata": {},
   "outputs": [],
   "source": [
    "candidatos = ['Led Zeppelin', 'Pink Floyd', 'AC/DC', 'Rolling Stones', 'Deep Purple']\n",
    "n = 10000"
   ]
  },
  {
   "cell_type": "code",
   "execution_count": 219,
   "metadata": {},
   "outputs": [
    {
     "data": {
      "text/plain": [
       "{'Led Zeppelin': 1965,\n",
       " 'Pink Floyd': 2019,\n",
       " 'AC/DC': 2057,\n",
       " 'Rolling Stones': 1942,\n",
       " 'Deep Purple': 2017}"
      ]
     },
     "execution_count": 219,
     "metadata": {},
     "output_type": "execute_result"
    }
   ],
   "source": [
    "eleicao(candidatos, n)"
   ]
  },
  {
   "cell_type": "markdown",
   "metadata": {},
   "source": [
    "# Exercicio"
   ]
  },
  {
   "cell_type": "code",
   "execution_count": 273,
   "metadata": {
    "scrolled": true
   },
   "outputs": [],
   "source": [
    "import itertools\n",
    "range_x = np.linspace(0, 100, 10)\n",
    "range_y = np.linspace(0, 100, 10)\n",
    "\n",
    "coords = [] #Criando uma lista que armazenará todas as possíveis combinacoes de coordenadas\n",
    "for x,y in itertools.product(range_x, range_y): #Funcao mágica que vem do além \n",
    "    coords.append([x,y])\n",
    "coords = np.array(coords) #Transformando a lista coords em uma Numpy array"
   ]
  },
  {
   "cell_type": "code",
   "execution_count": 278,
   "metadata": {},
   "outputs": [],
   "source": [
    "#Criando uma numpy array com os valores aleatórios de teores em uma distribuição normal \n",
    "teores = np.random.randn(100,1) #As dimensões da array teores são 100x1"
   ]
  },
  {
   "cell_type": "code",
   "execution_count": 280,
   "metadata": {},
   "outputs": [],
   "source": [
    "#Criando o dataset, que terá dimensões 100x3, através da funçào \"empilhamento\"\n",
    "dataset = np.hstack((coords_array, teores))"
   ]
  },
  {
   "cell_type": "code",
   "execution_count": 281,
   "metadata": {},
   "outputs": [
    {
     "data": {
      "text/plain": [
       "array([[ 0.00000000e+00,  0.00000000e+00, -6.73239817e-01],\n",
       "       [ 0.00000000e+00,  1.11111111e+01, -2.01910835e+00],\n",
       "       [ 0.00000000e+00,  2.22222222e+01,  1.61893490e-01],\n",
       "       [ 0.00000000e+00,  3.33333333e+01,  2.03807827e-02],\n",
       "       [ 0.00000000e+00,  4.44444444e+01,  9.07422970e-02],\n",
       "       [ 0.00000000e+00,  5.55555556e+01,  8.94739657e-01],\n",
       "       [ 0.00000000e+00,  6.66666667e+01, -4.70662483e-01],\n",
       "       [ 0.00000000e+00,  7.77777778e+01,  5.14365733e-02],\n",
       "       [ 0.00000000e+00,  8.88888889e+01, -6.61897260e-01],\n",
       "       [ 0.00000000e+00,  1.00000000e+02,  2.14574613e-02],\n",
       "       [ 1.11111111e+01,  0.00000000e+00, -1.50339922e-01],\n",
       "       [ 1.11111111e+01,  1.11111111e+01,  5.37777948e-02],\n",
       "       [ 1.11111111e+01,  2.22222222e+01,  1.03563278e+00],\n",
       "       [ 1.11111111e+01,  3.33333333e+01, -3.38768907e-02],\n",
       "       [ 1.11111111e+01,  4.44444444e+01, -1.44280787e+00],\n",
       "       [ 1.11111111e+01,  5.55555556e+01,  8.74785378e-01],\n",
       "       [ 1.11111111e+01,  6.66666667e+01,  1.21745971e+00],\n",
       "       [ 1.11111111e+01,  7.77777778e+01, -1.10106874e+00],\n",
       "       [ 1.11111111e+01,  8.88888889e+01, -1.32359626e+00],\n",
       "       [ 1.11111111e+01,  1.00000000e+02, -1.38467232e+00],\n",
       "       [ 2.22222222e+01,  0.00000000e+00,  6.68306759e-01],\n",
       "       [ 2.22222222e+01,  1.11111111e+01, -5.22379116e-01],\n",
       "       [ 2.22222222e+01,  2.22222222e+01, -2.29380800e+00],\n",
       "       [ 2.22222222e+01,  3.33333333e+01,  6.29393911e-01],\n",
       "       [ 2.22222222e+01,  4.44444444e+01, -2.43389062e-01],\n",
       "       [ 2.22222222e+01,  5.55555556e+01,  8.84823859e-01],\n",
       "       [ 2.22222222e+01,  6.66666667e+01,  2.27593014e-01],\n",
       "       [ 2.22222222e+01,  7.77777778e+01, -1.60954994e+00],\n",
       "       [ 2.22222222e+01,  8.88888889e+01, -1.18478163e+00],\n",
       "       [ 2.22222222e+01,  1.00000000e+02, -7.83871033e-01],\n",
       "       [ 3.33333333e+01,  0.00000000e+00, -1.20361841e+00],\n",
       "       [ 3.33333333e+01,  1.11111111e+01, -6.76888281e-01],\n",
       "       [ 3.33333333e+01,  2.22222222e+01, -4.18240474e-01],\n",
       "       [ 3.33333333e+01,  3.33333333e+01, -9.78549121e-01],\n",
       "       [ 3.33333333e+01,  4.44444444e+01,  6.64520373e-01],\n",
       "       [ 3.33333333e+01,  5.55555556e+01, -1.67827827e+00],\n",
       "       [ 3.33333333e+01,  6.66666667e+01, -1.43808212e+00],\n",
       "       [ 3.33333333e+01,  7.77777778e+01, -1.81195537e+00],\n",
       "       [ 3.33333333e+01,  8.88888889e+01,  3.09555660e-01],\n",
       "       [ 3.33333333e+01,  1.00000000e+02,  9.52307290e-01],\n",
       "       [ 4.44444444e+01,  0.00000000e+00,  5.70010975e-01],\n",
       "       [ 4.44444444e+01,  1.11111111e+01, -2.97252864e-01],\n",
       "       [ 4.44444444e+01,  2.22222222e+01, -2.22998319e-01],\n",
       "       [ 4.44444444e+01,  3.33333333e+01, -6.46221279e-01],\n",
       "       [ 4.44444444e+01,  4.44444444e+01,  1.69238517e-01],\n",
       "       [ 4.44444444e+01,  5.55555556e+01,  1.21143566e+00],\n",
       "       [ 4.44444444e+01,  6.66666667e+01, -1.06995218e-01],\n",
       "       [ 4.44444444e+01,  7.77777778e+01,  5.74325046e-01],\n",
       "       [ 4.44444444e+01,  8.88888889e+01, -9.62222737e-01],\n",
       "       [ 4.44444444e+01,  1.00000000e+02, -5.08264947e-01],\n",
       "       [ 5.55555556e+01,  0.00000000e+00, -1.01771067e+00],\n",
       "       [ 5.55555556e+01,  1.11111111e+01,  2.14785273e-01],\n",
       "       [ 5.55555556e+01,  2.22222222e+01,  1.66409037e+00],\n",
       "       [ 5.55555556e+01,  3.33333333e+01, -3.32145636e-01],\n",
       "       [ 5.55555556e+01,  4.44444444e+01,  5.20806700e-01],\n",
       "       [ 5.55555556e+01,  5.55555556e+01,  4.64317773e-01],\n",
       "       [ 5.55555556e+01,  6.66666667e+01,  8.55062843e-01],\n",
       "       [ 5.55555556e+01,  7.77777778e+01,  1.70390532e-01],\n",
       "       [ 5.55555556e+01,  8.88888889e+01,  4.11996100e-01],\n",
       "       [ 5.55555556e+01,  1.00000000e+02, -4.89066074e-02],\n",
       "       [ 6.66666667e+01,  0.00000000e+00,  1.43657572e+00],\n",
       "       [ 6.66666667e+01,  1.11111111e+01,  7.11462060e-01],\n",
       "       [ 6.66666667e+01,  2.22222222e+01,  6.21211823e-01],\n",
       "       [ 6.66666667e+01,  3.33333333e+01, -1.44529259e+00],\n",
       "       [ 6.66666667e+01,  4.44444444e+01, -1.67338861e+00],\n",
       "       [ 6.66666667e+01,  5.55555556e+01, -5.41510298e-01],\n",
       "       [ 6.66666667e+01,  6.66666667e+01,  1.14794081e-02],\n",
       "       [ 6.66666667e+01,  7.77777778e+01,  1.46711433e+00],\n",
       "       [ 6.66666667e+01,  8.88888889e+01,  5.40776425e-01],\n",
       "       [ 6.66666667e+01,  1.00000000e+02,  3.82459300e-01],\n",
       "       [ 7.77777778e+01,  0.00000000e+00,  4.76800442e-01],\n",
       "       [ 7.77777778e+01,  1.11111111e+01, -7.72912582e-03],\n",
       "       [ 7.77777778e+01,  2.22222222e+01,  6.53713178e-01],\n",
       "       [ 7.77777778e+01,  3.33333333e+01, -1.87008988e-01],\n",
       "       [ 7.77777778e+01,  4.44444444e+01,  7.59207325e-01],\n",
       "       [ 7.77777778e+01,  5.55555556e+01, -1.37582306e+00],\n",
       "       [ 7.77777778e+01,  6.66666667e+01,  1.42163065e-01],\n",
       "       [ 7.77777778e+01,  7.77777778e+01,  3.00976132e-01],\n",
       "       [ 7.77777778e+01,  8.88888889e+01,  1.10260373e+00],\n",
       "       [ 7.77777778e+01,  1.00000000e+02,  8.61590006e-01],\n",
       "       [ 8.88888889e+01,  0.00000000e+00,  1.08976340e+00],\n",
       "       [ 8.88888889e+01,  1.11111111e+01, -8.54389030e-02],\n",
       "       [ 8.88888889e+01,  2.22222222e+01,  9.26385136e-01],\n",
       "       [ 8.88888889e+01,  3.33333333e+01,  4.59178305e-01],\n",
       "       [ 8.88888889e+01,  4.44444444e+01, -1.07240563e-01],\n",
       "       [ 8.88888889e+01,  5.55555556e+01,  1.04925528e+00],\n",
       "       [ 8.88888889e+01,  6.66666667e+01, -1.90566195e-02],\n",
       "       [ 8.88888889e+01,  7.77777778e+01, -5.54231415e-01],\n",
       "       [ 8.88888889e+01,  8.88888889e+01, -7.17051324e-01],\n",
       "       [ 8.88888889e+01,  1.00000000e+02, -1.25266948e+00],\n",
       "       [ 1.00000000e+02,  0.00000000e+00, -1.14062978e+00],\n",
       "       [ 1.00000000e+02,  1.11111111e+01,  8.83275881e-01],\n",
       "       [ 1.00000000e+02,  2.22222222e+01,  1.27736226e-01],\n",
       "       [ 1.00000000e+02,  3.33333333e+01,  8.42310031e-02],\n",
       "       [ 1.00000000e+02,  4.44444444e+01, -7.18620483e-01],\n",
       "       [ 1.00000000e+02,  5.55555556e+01, -2.58061650e+00],\n",
       "       [ 1.00000000e+02,  6.66666667e+01,  8.36408136e-01],\n",
       "       [ 1.00000000e+02,  7.77777778e+01,  1.62547272e+00],\n",
       "       [ 1.00000000e+02,  8.88888889e+01, -1.60843393e+00],\n",
       "       [ 1.00000000e+02,  1.00000000e+02, -8.87296672e-01]])"
      ]
     },
     "execution_count": 281,
     "metadata": {},
     "output_type": "execute_result"
    }
   ],
   "source": [
    "dataset"
   ]
  },
  {
   "cell_type": "code",
   "execution_count": null,
   "metadata": {},
   "outputs": [],
   "source": []
  }
 ],
 "metadata": {
  "kernelspec": {
   "display_name": "Python 3",
   "language": "python",
   "name": "python3"
  },
  "language_info": {
   "codemirror_mode": {
    "name": "ipython",
    "version": 3
   },
   "file_extension": ".py",
   "mimetype": "text/x-python",
   "name": "python",
   "nbconvert_exporter": "python",
   "pygments_lexer": "ipython3",
   "version": "3.6.5"
  }
 },
 "nbformat": 4,
 "nbformat_minor": 2
}
