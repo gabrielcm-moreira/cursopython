{
 "cells": [
  {
   "cell_type": "markdown",
   "metadata": {},
   "source": [
    "# Exercicio Waker Lake"
   ]
  },
  {
   "cell_type": "code",
   "execution_count": 2,
   "metadata": {},
   "outputs": [],
   "source": [
    "import pandas as pd\n",
    "import numpy as np"
   ]
  },
  {
   "cell_type": "code",
   "execution_count": 2,
   "metadata": {},
   "outputs": [
    {
     "data": {
      "text/html": [
       "<div>\n",
       "<style scoped>\n",
       "    .dataframe tbody tr th:only-of-type {\n",
       "        vertical-align: middle;\n",
       "    }\n",
       "\n",
       "    .dataframe tbody tr th {\n",
       "        vertical-align: top;\n",
       "    }\n",
       "\n",
       "    .dataframe thead th {\n",
       "        text-align: right;\n",
       "    }\n",
       "</style>\n",
       "<table border=\"1\" class=\"dataframe\">\n",
       "  <thead>\n",
       "    <tr style=\"text-align: right;\">\n",
       "      <th></th>\n",
       "      <th>Id</th>\n",
       "      <th>X</th>\n",
       "      <th>Y</th>\n",
       "      <th>V</th>\n",
       "      <th>U</th>\n",
       "      <th>T</th>\n",
       "    </tr>\n",
       "  </thead>\n",
       "  <tbody>\n",
       "    <tr>\n",
       "      <th>0</th>\n",
       "      <td>1.0</td>\n",
       "      <td>11.0</td>\n",
       "      <td>8.0</td>\n",
       "      <td>0.0</td>\n",
       "      <td>-999.0</td>\n",
       "      <td>2.0</td>\n",
       "    </tr>\n",
       "    <tr>\n",
       "      <th>1</th>\n",
       "      <td>2.0</td>\n",
       "      <td>8.0</td>\n",
       "      <td>30.0</td>\n",
       "      <td>0.0</td>\n",
       "      <td>-999.0</td>\n",
       "      <td>2.0</td>\n",
       "    </tr>\n",
       "    <tr>\n",
       "      <th>2</th>\n",
       "      <td>3.0</td>\n",
       "      <td>9.0</td>\n",
       "      <td>48.0</td>\n",
       "      <td>224.4</td>\n",
       "      <td>-999.0</td>\n",
       "      <td>2.0</td>\n",
       "    </tr>\n",
       "  </tbody>\n",
       "</table>\n",
       "</div>"
      ],
      "text/plain": [
       "    Id     X     Y      V      U    T\n",
       "0  1.0  11.0   8.0    0.0 -999.0  2.0\n",
       "1  2.0   8.0  30.0    0.0 -999.0  2.0\n",
       "2  3.0   9.0  48.0  224.4 -999.0  2.0"
      ]
     },
     "execution_count": 2,
     "metadata": {},
     "output_type": "execute_result"
    }
   ],
   "source": [
    "#Importando data set\n",
    "walker = pd.read_csv('data\\walker.csv')\n",
    "walker.head(3)"
   ]
  },
  {
   "cell_type": "code",
   "execution_count": 3,
   "metadata": {},
   "outputs": [],
   "source": [
    "import grids_2d\n",
    "import numpy as np"
   ]
  },
  {
   "cell_type": "code",
   "execution_count": 4,
   "metadata": {},
   "outputs": [],
   "source": [
    "grid_est = grids_2d.Grid(0,0,100,100,5,5) #Instanciando o objeto grid_est"
   ]
  },
  {
   "cell_type": "code",
   "execution_count": 5,
   "metadata": {},
   "outputs": [
    {
     "data": {
      "text/plain": [
       "array([[  8.,   8.],\n",
       "       [  8.,  13.],\n",
       "       [  8.,  18.],\n",
       "       ...,\n",
       "       [243., 273.],\n",
       "       [243., 278.],\n",
       "       [243., 283.]])"
      ]
     },
     "execution_count": 5,
     "metadata": {},
     "output_type": "execute_result"
    }
   ],
   "source": [
    "grid_est.auto_grid(coords_x=walker['X'],coords_y=walker['Y'],sx=5,sy=5) #Aplicando o método auto_grid ao objeto grid_est"
   ]
  },
  {
   "cell_type": "code",
   "execution_count": 6,
   "metadata": {},
   "outputs": [],
   "source": [
    "#Importando o interpolador \n",
    "from scipy.interpolate import Rbf"
   ]
  },
  {
   "cell_type": "code",
   "execution_count": 7,
   "metadata": {},
   "outputs": [],
   "source": [
    "rbfi = Rbf(walker.X,\n",
    "           walker.Y,\n",
    "           np.zeros(len(walker.Y)),\n",
    "           walker.V,\n",
    "           function='multiquadric',\n",
    "           epslon=10000)"
   ]
  },
  {
   "cell_type": "code",
   "execution_count": null,
   "metadata": {},
   "outputs": [],
   "source": [
    "def add_coord(grid):\n",
    "    ox = grid['ox']\n",
    "    oy = grid['oy']\n",
    "    nx = grid['nx']\n",
    "    ny = grid['ny']\n",
    "    sx = grid['sx']\n",
    "    sy = grid['sy']\n",
    "    \n",
    "    x_coords = np.arange(ox, ox+nx*sx, sx)\n",
    "    y_coords = np.arange(oy, oy+ny*sy, sy)\n",
    "    \n",
    "    coords_array = []\n",
    "    for x, y in itertools.product(x_coords, y_coords):\n",
    "        coords_array.append([x,y])\n",
    "        \n",
    "    return np.array(coords_array)"
   ]
  },
  {
   "cell_type": "code",
   "execution_count": 8,
   "metadata": {},
   "outputs": [
    {
     "ename": "NameError",
     "evalue": "name 'add_coord' is not defined",
     "output_type": "error",
     "traceback": [
      "\u001b[1;31m---------------------------------------------------------------------------\u001b[0m",
      "\u001b[1;31mNameError\u001b[0m                                 Traceback (most recent call last)",
      "\u001b[1;32m<ipython-input-8-1c58ec50289f>\u001b[0m in \u001b[0;36m<module>\u001b[1;34m()\u001b[0m\n\u001b[1;32m----> 1\u001b[1;33m \u001b[0mcoords\u001b[0m \u001b[1;33m=\u001b[0m \u001b[0madd_coord\u001b[0m\u001b[1;33m(\u001b[0m\u001b[0mgrid_est\u001b[0m\u001b[1;33m)\u001b[0m\u001b[1;33m\u001b[0m\u001b[0m\n\u001b[0m",
      "\u001b[1;31mNameError\u001b[0m: name 'add_coord' is not defined"
     ]
    }
   ],
   "source": [
    "coords = add_coord(grid_est)"
   ]
  },
  {
   "cell_type": "code",
   "execution_count": null,
   "metadata": {},
   "outputs": [],
   "source": [
    "results = rbfi(coords.T[0],coords.T[1], np.zeros(len(coors.T[0])))"
   ]
  },
  {
   "cell_type": "markdown",
   "metadata": {},
   "source": [
    "# Exercício KDTree"
   ]
  },
  {
   "cell_type": "code",
   "execution_count": 1,
   "metadata": {},
   "outputs": [],
   "source": [
    "from scipy.spatial import KDTree"
   ]
  },
  {
   "cell_type": "code",
   "execution_count": 16,
   "metadata": {},
   "outputs": [],
   "source": [
    "x = np.random.randint(0,10,20) #Criando coordenadas X\n",
    "y = np.random.randint(0,10,20) #Criando coordenadas Y\n",
    "grade = np.random.randn(20) #Criando teores\n",
    "samples_coords = np.vstack((x,y)).T #Criando uma numpy array 20x2 com as coordenadas\n",
    "n = range(20) #Não sei o que é isso"
   ]
  },
  {
   "cell_type": "code",
   "execution_count": 18,
   "metadata": {},
   "outputs": [
    {
     "data": {
      "text/plain": [
       "<scipy.spatial.kdtree.KDTree at 0x169a5cbdac8>"
      ]
     },
     "execution_count": 18,
     "metadata": {},
     "output_type": "execute_result"
    }
   ],
   "source": [
    "samples_kdtree = KDTree(samples_coords)"
   ]
  },
  {
   "cell_type": "code",
   "execution_count": 22,
   "metadata": {},
   "outputs": [],
   "source": [
    "point = np.array([[5,5]]) #Coordenadas do ponto a ser \"investigado\""
   ]
  },
  {
   "cell_type": "code",
   "execution_count": 25,
   "metadata": {},
   "outputs": [],
   "source": [
    "neighs = samples_kdtree.query_ball_point(point, r=3)"
   ]
  },
  {
   "cell_type": "code",
   "execution_count": 26,
   "metadata": {},
   "outputs": [],
   "source": [
    "dist, neighs = samples_kdtree.query(point, k=5)"
   ]
  },
  {
   "cell_type": "code",
   "execution_count": 27,
   "metadata": {},
   "outputs": [
    {
     "data": {
      "text/plain": [
       "(array([[1.        , 2.        , 2.23606798, 3.        , 4.        ]]),\n",
       " array([[14, 17, 10,  4, 12]]))"
      ]
     },
     "execution_count": 27,
     "metadata": {},
     "output_type": "execute_result"
    }
   ],
   "source": [
    "dist, neighs"
   ]
  },
  {
   "cell_type": "markdown",
   "metadata": {},
   "source": [
    "# Exercício da reta de regressão"
   ]
  },
  {
   "cell_type": "markdown",
   "metadata": {},
   "source": [
    "* Calcule os parâmetros da regressão entre U e V (walker lake);\n",
    "* Crie uma função que recebe um np.array de valores x e retorna os valores regredidos y;\n",
    "* Plote o scatterplot entre U e V e a reta de regressão linear em um mesmo plot."
   ]
  },
  {
   "cell_type": "code",
   "execution_count": 75,
   "metadata": {},
   "outputs": [],
   "source": [
    "from scipy import stats"
   ]
  },
  {
   "cell_type": "code",
   "execution_count": 76,
   "metadata": {},
   "outputs": [],
   "source": [
    "wl = pd.read_csv('data\\walker.csv', na_values=-999) #Informa que os valores \"absent\" são os \"-999\""
   ]
  },
  {
   "cell_type": "code",
   "execution_count": 77,
   "metadata": {},
   "outputs": [],
   "source": [
    "wl_isot = walker.dropna() #Remove os valores absent"
   ]
  },
  {
   "cell_type": "code",
   "execution_count": 78,
   "metadata": {
    "scrolled": true
   },
   "outputs": [],
   "source": [
    "slope, intercept, r_value, p_value, std_err = stats.linregress(wl_isot['X'], wl_isot['Y'])"
   ]
  },
  {
   "cell_type": "code",
   "execution_count": 79,
   "metadata": {},
   "outputs": [],
   "source": [
    "wl_array = wl.values"
   ]
  },
  {
   "cell_type": "code",
   "execution_count": 89,
   "metadata": {},
   "outputs": [
    {
     "data": {
      "text/plain": [
       "0      132.802341\n",
       "1      132.802341\n",
       "2      138.694131\n",
       "3      144.207838\n",
       "4      143.622335\n",
       "5      148.219717\n",
       "6      137.851322\n",
       "7      133.624146\n",
       "8      143.002700\n",
       "9      137.386595\n",
       "10     137.733171\n",
       "11     134.957938\n",
       "12     134.931683\n",
       "13     136.065931\n",
       "14     137.738422\n",
       "15     133.555881\n",
       "16     134.852915\n",
       "17     140.471645\n",
       "18     156.306487\n",
       "19     151.249630\n",
       "20     145.675535\n",
       "21     136.375749\n",
       "22     141.598017\n",
       "23     140.075184\n",
       "24     138.213651\n",
       "25     133.445607\n",
       "26     138.003605\n",
       "27     134.385563\n",
       "28     141.009888\n",
       "29     139.127351\n",
       "          ...    \n",
       "165    149.017892\n",
       "166    143.984665\n",
       "167    140.566166\n",
       "168    138.707259\n",
       "169    133.634649\n",
       "170    142.711261\n",
       "171    141.553382\n",
       "172    142.018109\n",
       "173    132.802341\n",
       "174    136.415132\n",
       "175    144.648935\n",
       "176    149.592892\n",
       "177    135.950406\n",
       "178    133.516498\n",
       "179    132.857478\n",
       "180    137.205430\n",
       "181    136.682941\n",
       "182    144.425761\n",
       "183    145.607270\n",
       "184    132.802341\n",
       "185    133.542754\n",
       "186    132.802341\n",
       "187    133.282822\n",
       "188    139.794247\n",
       "189    145.990604\n",
       "190    132.802341\n",
       "191    139.127351\n",
       "192    138.956689\n",
       "193    133.390470\n",
       "194    133.999604\n",
       "Name: V, Length: 195, dtype: float64"
      ]
     },
     "execution_count": 89,
     "metadata": {},
     "output_type": "execute_result"
    }
   ],
   "source": [
    "filtro_u = np.isnan(wl.U) #filtrando, o resultado dá um array com valores booleanos\n",
    "wl[filtro_u].V #Valores de V onde o valor da array é True\n",
    "imput_u = slope*wl[filtro_u].V + intercept #Cálculo de um novo u onde o filtro é True\n",
    "imput_u"
   ]
  },
  {
   "cell_type": "code",
   "execution_count": null,
   "metadata": {},
   "outputs": [],
   "source": []
  }
 ],
 "metadata": {
  "kernelspec": {
   "display_name": "Python 3",
   "language": "python",
   "name": "python3"
  },
  "language_info": {
   "codemirror_mode": {
    "name": "ipython",
    "version": 3
   },
   "file_extension": ".py",
   "mimetype": "text/x-python",
   "name": "python",
   "nbconvert_exporter": "python",
   "pygments_lexer": "ipython3",
   "version": "3.6.5"
  }
 },
 "nbformat": 4,
 "nbformat_minor": 2
}
