{
 "cells": [
  {
   "cell_type": "markdown",
   "metadata": {},
   "source": [
    "# Exercicio Classes"
   ]
  },
  {
   "cell_type": "code",
   "execution_count": 1,
   "metadata": {},
   "outputs": [],
   "source": [
    "import numpy as np"
   ]
  },
  {
   "cell_type": "code",
   "execution_count": 2,
   "metadata": {},
   "outputs": [],
   "source": [
    "class Grid:\n",
    "    \n",
    "    def __init__(self, ox, oy, oz, nx, ny, nz, sx, sy, sz): #Construtor, é o método que é executado automaticamente, quando \n",
    "        \n",
    "        #Definindo os atributos do objeto. O módulo construtor sempre roda quando instanciamos um objeto\n",
    "        self.ox = ox\n",
    "        self.oy = oy\n",
    "        self.oz = oz\n",
    "        \n",
    "        self.nx = nx\n",
    "        self.ny = ny\n",
    "        self.nz = nz\n",
    "    \n",
    "        self.sx = sx\n",
    "        self.sy = sy\n",
    "        self.sz = sz    \n",
    "    \n",
    "    def auto_grid(self, coords_x, coords_y, coords_z, sx, sy, sz): #O método auto_grid recebe as coordenadas x, y, z de um point set e as dimensões dos blocos. Esse método altera os valores de nx, ny, nz e ox, oy, oz para cobrir todo o point set.\n",
    "       \n",
    "        dist_x = np.max(coords_x) - np.min(coords_x)\n",
    "        nx = int(dist_x / sx)\n",
    "        ox = np.min(coords_x)\n",
    "        \n",
    "        self.ox = ox\n",
    "        self.nx = nx\n",
    "        self.sx = sx\n",
    "        \n",
    "        dist_y = np.max(coords_y) - np.min(coords_y)\n",
    "        ny = int(dist_y / sy)\n",
    "        oy = np.min(coords_y)\n",
    "        \n",
    "        self.oy = oy\n",
    "        self.ny = ny\n",
    "        self.sy = sy\n",
    "        \n",
    "        dist_z = np.max(coords_z) - np.min(coords_z)\n",
    "        nz = int(dist_z / sz)\n",
    "        oz = np.min(coords_z)\n",
    "        \n",
    "        self.oz = oz\n",
    "        self.nz = nz\n",
    "        self.sz = sz \n",
    "        \n",
    "    def number_of_blocks():\n",
    "        block_count = self.nx*self.ny*self.nz"
   ]
  },
  {
   "cell_type": "code",
   "execution_count": 3,
   "metadata": {},
   "outputs": [],
   "source": [
    "est_grid = Grid(0,0,0,100,100,100,5,5,5) #Definindo um grid com os atributos de entrada"
   ]
  },
  {
   "cell_type": "markdown",
   "metadata": {},
   "source": [
    "Ao colocar ponto após o nome do objeto, podemos indagar sobre um determinado atributo:"
   ]
  },
  {
   "cell_type": "code",
   "execution_count": 4,
   "metadata": {},
   "outputs": [
    {
     "data": {
      "text/plain": [
       "100"
      ]
     },
     "execution_count": 4,
     "metadata": {},
     "output_type": "execute_result"
    }
   ],
   "source": [
    "est_grid.nx"
   ]
  },
  {
   "cell_type": "markdown",
   "metadata": {},
   "source": [
    "Ou chamar um determinado método, relacionado à mesma classe:"
   ]
  },
  {
   "cell_type": "code",
   "execution_count": 19,
   "metadata": {},
   "outputs": [],
   "source": [
    "est_grid.auto_grid(np.arange(0,100,2), np.arange(0,100,2), np.arange(1,100,2),5,5,5) #Redefinindo o grid com o módulo auto_grid\n"
   ]
  },
  {
   "cell_type": "code",
   "execution_count": 20,
   "metadata": {},
   "outputs": [
    {
     "data": {
      "text/plain": [
       "19"
      ]
     },
     "execution_count": 20,
     "metadata": {},
     "output_type": "execute_result"
    }
   ],
   "source": [
    "est_grid.nx"
   ]
  },
  {
   "cell_type": "code",
   "execution_count": null,
   "metadata": {},
   "outputs": [],
   "source": []
  }
 ],
 "metadata": {
  "kernelspec": {
   "display_name": "Python 3",
   "language": "python",
   "name": "python3"
  },
  "language_info": {
   "codemirror_mode": {
    "name": "ipython",
    "version": 3
   },
   "file_extension": ".py",
   "mimetype": "text/x-python",
   "name": "python",
   "nbconvert_exporter": "python",
   "pygments_lexer": "ipython3",
   "version": "3.6.5"
  }
 },
 "nbformat": 4,
 "nbformat_minor": 2
}
