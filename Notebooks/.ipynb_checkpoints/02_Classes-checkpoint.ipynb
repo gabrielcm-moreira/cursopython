{
 "cells": [
  {
   "cell_type": "code",
   "execution_count": 23,
   "metadata": {},
   "outputs": [],
   "source": [
    "import numpy as np"
   ]
  },
  {
   "cell_type": "code",
   "execution_count": 46,
   "metadata": {},
   "outputs": [],
   "source": [
    "class Grid():\n",
    "    \n",
    "    def __init__(self, ox, oy, oz, nx, ny, nz, sx, sy, sz): #Construtor, é o método que é executado automaticamente, quando \n",
    "        \n",
    "        #Definindo os atributos do objeto\n",
    "        self.ox = ox\n",
    "        self.oy = oy\n",
    "        self.oz = oz\n",
    "        \n",
    "        self.nx = nx\n",
    "        self.ny = ny\n",
    "        self.nz = nz\n",
    "    \n",
    "        self.sx = sx\n",
    "        self.sy = sy\n",
    "        self.sz = sz\n",
    "        \n",
    "        self.block_count = self.nx*self.ny\n",
    "    \n",
    "    \n",
    "    def auto_grid(self, coords_x, coords_y, coords_z, sx, sy, sz): #O método auto_grid recebe as coordenadas x, y, z de um point set e as dimensões dos blocos. Esse método altera os valores de nx, ny, nz e ox, oy, oz para cobrir todo o point set.\n",
    "       \n",
    "        dist_x = np.max(coords_x) - np.min(coords_x)\n",
    "        nx = int(dist_x / sx)\n",
    "        ox = np.min(coords_x)\n",
    "        \n",
    "        self.ox = ox\n",
    "        self.nx = nx\n",
    "        self.sx = sx\n",
    "        \n",
    "        dist_y = np.max(coords_y) - np.min(coords_y)\n",
    "        ny = int(dist_y / sy)\n",
    "        oy = np.min(coords_y)\n",
    "        \n",
    "        self.oy = oy\n",
    "        self.ny = ny\n",
    "        self.sy = sy\n",
    "        \n",
    "        dist_z = np.max(coords_z) - np.min(coords_z)\n",
    "        nz = int(dist_z / sz)\n",
    "        oz = np.min(coords_z)\n",
    "        \n",
    "        self.oz = oz\n",
    "        self.nz = nz\n",
    "        self.sz = sz     "
   ]
  },
  {
   "cell_type": "code",
   "execution_count": 47,
   "metadata": {},
   "outputs": [],
   "source": [
    "est_grid = Grid(0,0,0,100,100,100,5,5,5)"
   ]
  },
  {
   "cell_type": "code",
   "execution_count": 51,
   "metadata": {},
   "outputs": [],
   "source": [
    "est_grid.auto_grid(np.arange(0,100,2), np.arange(0,100,2), np.arange(1,100,2),5,5,5)"
   ]
  },
  {
   "cell_type": "code",
   "execution_count": 53,
   "metadata": {},
   "outputs": [
    {
     "data": {
      "text/plain": [
       "5"
      ]
     },
     "execution_count": 53,
     "metadata": {},
     "output_type": "execute_result"
    }
   ],
   "source": [
    "est_grid.sy"
   ]
  },
  {
   "cell_type": "code",
   "execution_count": null,
   "metadata": {},
   "outputs": [],
   "source": []
  }
 ],
 "metadata": {
  "kernelspec": {
   "display_name": "Python 3",
   "language": "python",
   "name": "python3"
  },
  "language_info": {
   "codemirror_mode": {
    "name": "ipython",
    "version": 3
   },
   "file_extension": ".py",
   "mimetype": "text/x-python",
   "name": "python",
   "nbconvert_exporter": "python",
   "pygments_lexer": "ipython3",
   "version": "3.6.5"
  }
 },
 "nbformat": 4,
 "nbformat_minor": 2
}
