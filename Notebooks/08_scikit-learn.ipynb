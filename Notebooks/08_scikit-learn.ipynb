{
 "cells": [
  {
   "attachments": {},
   "cell_type": "markdown",
   "metadata": {},
   "source": [
    "# Exercício standard scaler\n",
    "* Importe o jura como um DataFrame;\n",
    "* Estandardize as variáveis contínuas;\n",
    "* Transforme a variável Rock em indicadores."
   ]
  },
  {
   "cell_type": "code",
   "execution_count": 3,
   "metadata": {},
   "outputs": [],
   "source": [
    "from sklearn import preprocessing\n",
    "import pandas as pd"
   ]
  },
  {
   "cell_type": "code",
   "execution_count": 4,
   "metadata": {},
   "outputs": [],
   "source": [
    "jura = pd.read_csv('data\\jura.csv')"
   ]
  },
  {
   "cell_type": "code",
   "execution_count": 6,
   "metadata": {},
   "outputs": [
    {
     "data": {
      "text/html": [
       "<div>\n",
       "<style scoped>\n",
       "    .dataframe tbody tr th:only-of-type {\n",
       "        vertical-align: middle;\n",
       "    }\n",
       "\n",
       "    .dataframe tbody tr th {\n",
       "        vertical-align: top;\n",
       "    }\n",
       "\n",
       "    .dataframe thead th {\n",
       "        text-align: right;\n",
       "    }\n",
       "</style>\n",
       "<table border=\"1\" class=\"dataframe\">\n",
       "  <thead>\n",
       "    <tr style=\"text-align: right;\">\n",
       "      <th></th>\n",
       "      <th>Xloc</th>\n",
       "      <th>Yloc</th>\n",
       "      <th>Landuse</th>\n",
       "      <th>Rock</th>\n",
       "      <th>Cd</th>\n",
       "      <th>Co</th>\n",
       "      <th>Cr</th>\n",
       "      <th>Cu</th>\n",
       "      <th>Ni</th>\n",
       "      <th>Pb</th>\n",
       "      <th>Zn</th>\n",
       "    </tr>\n",
       "  </thead>\n",
       "  <tbody>\n",
       "    <tr>\n",
       "      <th>0</th>\n",
       "      <td>238.6</td>\n",
       "      <td>307.7</td>\n",
       "      <td>3</td>\n",
       "      <td>3</td>\n",
       "      <td>1.740</td>\n",
       "      <td>9.32</td>\n",
       "      <td>38.32</td>\n",
       "      <td>25.72</td>\n",
       "      <td>21.32</td>\n",
       "      <td>77.36</td>\n",
       "      <td>92.56</td>\n",
       "    </tr>\n",
       "    <tr>\n",
       "      <th>1</th>\n",
       "      <td>254.4</td>\n",
       "      <td>197.2</td>\n",
       "      <td>2</td>\n",
       "      <td>2</td>\n",
       "      <td>1.335</td>\n",
       "      <td>10.00</td>\n",
       "      <td>40.20</td>\n",
       "      <td>24.76</td>\n",
       "      <td>29.72</td>\n",
       "      <td>77.88</td>\n",
       "      <td>73.56</td>\n",
       "    </tr>\n",
       "    <tr>\n",
       "      <th>2</th>\n",
       "      <td>280.7</td>\n",
       "      <td>334.7</td>\n",
       "      <td>2</td>\n",
       "      <td>3</td>\n",
       "      <td>1.610</td>\n",
       "      <td>10.60</td>\n",
       "      <td>47.00</td>\n",
       "      <td>8.88</td>\n",
       "      <td>21.40</td>\n",
       "      <td>30.80</td>\n",
       "      <td>64.80</td>\n",
       "    </tr>\n",
       "  </tbody>\n",
       "</table>\n",
       "</div>"
      ],
      "text/plain": [
       "    Xloc   Yloc  Landuse  Rock     Cd     Co     Cr     Cu     Ni     Pb  \\\n",
       "0  238.6  307.7        3     3  1.740   9.32  38.32  25.72  21.32  77.36   \n",
       "1  254.4  197.2        2     2  1.335  10.00  40.20  24.76  29.72  77.88   \n",
       "2  280.7  334.7        2     3  1.610  10.60  47.00   8.88  21.40  30.80   \n",
       "\n",
       "      Zn  \n",
       "0  92.56  \n",
       "1  73.56  \n",
       "2  64.80  "
      ]
     },
     "execution_count": 6,
     "metadata": {},
     "output_type": "execute_result"
    }
   ],
   "source": [
    "jura.head(3)"
   ]
  },
  {
   "cell_type": "code",
   "execution_count": 9,
   "metadata": {},
   "outputs": [],
   "source": [
    "#Definindo X como as variáveis continuas do dataset\n",
    "X = jura[['Cd', 'Co', 'Cr', 'Cu', 'Ni', 'Pb', 'Zn']]"
   ]
  },
  {
   "cell_type": "code",
   "execution_count": 28,
   "metadata": {},
   "outputs": [],
   "source": [
    "#Definindo o objeto\n",
    "scaler = preprocessing.StandardScaler() #Nunca se passa dados ao se definir o objeto"
   ]
  },
  {
   "cell_type": "code",
   "execution_count": 29,
   "metadata": {},
   "outputs": [
    {
     "data": {
      "text/plain": [
       "StandardScaler(copy=True, with_mean=True, with_std=True)"
      ]
     },
     "execution_count": 29,
     "metadata": {},
     "output_type": "execute_result"
    }
   ],
   "source": [
    "#Aplicando o método fit ao objeto scaler com os dados \n",
    "scaler.fit(X)"
   ]
  },
  {
   "cell_type": "code",
   "execution_count": 30,
   "metadata": {},
   "outputs": [],
   "source": [
    "#Aplicando a transformação aos dados\n",
    "X_transformed = scaler.transform(X)"
   ]
  },
  {
   "cell_type": "code",
   "execution_count": 31,
   "metadata": {},
   "outputs": [],
   "source": [
    "#Transformando o Rock em indicadores\n",
    "rc = jura.Rock\n",
    "ohe = preprocessing.OneHotEncoder()"
   ]
  },
  {
   "cell_type": "code",
   "execution_count": 34,
   "metadata": {},
   "outputs": [
    {
     "name": "stderr",
     "output_type": "stream",
     "text": [
      "C:\\Anaconda3\\lib\\site-packages\\sklearn\\preprocessing\\_encoders.py:415: FutureWarning: The handling of integer data will change in version 0.22. Currently, the categories are determined based on the range [0, max(values)], while in the future they will be determined based on the unique values.\n",
      "If you want the future behaviour and silence this warning, you can specify \"categories='auto'\".\n",
      "In case you used a LabelEncoder before this OneHotEncoder to convert the categories to integers, then you can now use the OneHotEncoder directly.\n",
      "  warnings.warn(msg, FutureWarning)\n"
     ]
    },
    {
     "data": {
      "text/plain": [
       "OneHotEncoder(categorical_features=None, categories=None, drop=None,\n",
       "              dtype=<class 'numpy.float64'>, handle_unknown='error',\n",
       "              n_values=None, sparse=True)"
      ]
     },
     "execution_count": 34,
     "metadata": {},
     "output_type": "execute_result"
    }
   ],
   "source": [
    "#Fitando \n",
    "ohe.fit(rc.values.reshape(-1,1)) #Tem que 'reshapear' a array para que o scykit learn aceite"
   ]
  },
  {
   "cell_type": "code",
   "execution_count": 38,
   "metadata": {},
   "outputs": [],
   "source": [
    "#Transformando\n",
    "indicadores = ohe.transform(rc.values.reshape(-1,1))"
   ]
  },
  {
   "cell_type": "code",
   "execution_count": 39,
   "metadata": {},
   "outputs": [],
   "source": [
    "#Transformando a sparse matrix em array\n",
    "indicadores = indicadores.toarray()"
   ]
  },
  {
   "cell_type": "code",
   "execution_count": 40,
   "metadata": {},
   "outputs": [
    {
     "data": {
      "text/plain": [
       "array([[0., 0., 1., 0., 0.],\n",
       "       [0., 1., 0., 0., 0.],\n",
       "       [0., 0., 1., 0., 0.],\n",
       "       ...,\n",
       "       [0., 0., 1., 0., 0.],\n",
       "       [0., 1., 0., 0., 0.],\n",
       "       [0., 0., 1., 0., 0.]])"
      ]
     },
     "execution_count": 40,
     "metadata": {},
     "output_type": "execute_result"
    }
   ],
   "source": [
    "#Verificando os indicadores\n",
    "indicadores"
   ]
  },
  {
   "attachments": {},
   "cell_type": "markdown",
   "metadata": {},
   "source": [
    "# Exercício PCA\n",
    "Calcule as PC`s para as variáveis contínuas do jura."
   ]
  },
  {
   "cell_type": "code",
   "execution_count": 41,
   "metadata": {},
   "outputs": [],
   "source": [
    "from sklearn import decomposition"
   ]
  },
  {
   "cell_type": "code",
   "execution_count": 42,
   "metadata": {},
   "outputs": [],
   "source": [
    "#Definindo o objeto\n",
    "pca = decomposition.PCA()"
   ]
  },
  {
   "cell_type": "code",
   "execution_count": 43,
   "metadata": {},
   "outputs": [
    {
     "data": {
      "text/plain": [
       "PCA(copy=True, iterated_power='auto', n_components=None, random_state=None,\n",
       "    svd_solver='auto', tol=0.0, whiten=False)"
      ]
     },
     "execution_count": 43,
     "metadata": {},
     "output_type": "execute_result"
    }
   ],
   "source": [
    "#Aplocando o fit\n",
    "pca.fit(X)"
   ]
  },
  {
   "cell_type": "code",
   "execution_count": 45,
   "metadata": {},
   "outputs": [],
   "source": [
    "#Aplicando a transformação aos dados\n",
    "X_pca = pca.transform(X)"
   ]
  },
  {
   "cell_type": "code",
   "execution_count": 49,
   "metadata": {},
   "outputs": [
    {
     "data": {
      "text/plain": [
       "array([[ 2.73664431e+01, -6.96737706e-02, -1.01734346e+01, ...,\n",
       "         7.21742221e-01, -6.28477362e-02, -3.56167397e-03],\n",
       "       [ 1.69008013e+01,  1.07027675e+01, -1.44747188e+01, ...,\n",
       "        -4.92826159e+00,  2.40339480e+00, -5.05100327e-02],\n",
       "       [-2.56578307e+01, -1.41125407e+01, -3.46785159e+00, ...,\n",
       "         4.68929198e+00, -1.27466125e+00,  1.86140807e-01],\n",
       "       ...,\n",
       "       [ 1.89260540e+01, -1.19875486e+01,  1.70788108e+01, ...,\n",
       "        -7.68471242e-01, -1.25487440e+00,  4.82345162e-01],\n",
       "       [-2.82105941e+01,  1.20649763e+01, -1.16435156e+01, ...,\n",
       "        -4.86415072e+00, -2.79375499e+00,  7.80777667e-01],\n",
       "       [-2.59526370e+01,  2.03705898e+00,  5.72853435e+00, ...,\n",
       "        -1.58249456e+00,  8.55184439e-03, -4.31752796e-02]])"
      ]
     },
     "execution_count": 49,
     "metadata": {},
     "output_type": "execute_result"
    }
   ],
   "source": [
    "#Verificando o resultado. Ele cospe uma numpy array\n",
    "X_pca"
   ]
  },
  {
   "cell_type": "code",
   "execution_count": 55,
   "metadata": {},
   "outputs": [],
   "source": [
    "pcs = ['PC_{}'.format(i) for i in range(7)]"
   ]
  },
  {
   "cell_type": "code",
   "execution_count": 56,
   "metadata": {},
   "outputs": [
    {
     "data": {
      "text/plain": [
       "['PC_0', 'PC_1', 'PC_2', 'PC_3', 'PC_4', 'PC_5', 'PC_6']"
      ]
     },
     "execution_count": 56,
     "metadata": {},
     "output_type": "execute_result"
    }
   ],
   "source": [
    "pcs"
   ]
  },
  {
   "cell_type": "code",
   "execution_count": 58,
   "metadata": {},
   "outputs": [
    {
     "data": {
      "text/plain": [
       "(7, 259)"
      ]
     },
     "execution_count": 58,
     "metadata": {},
     "output_type": "execute_result"
    }
   ],
   "source": [
    "X_pca.T.shape"
   ]
  },
  {
   "cell_type": "code",
   "execution_count": 53,
   "metadata": {},
   "outputs": [],
   "source": [
    "for idx, pc in enumerate(pcs):\n",
    "    jura[pc] = X_pca.T[idx]"
   ]
  },
  {
   "cell_type": "code",
   "execution_count": 54,
   "metadata": {},
   "outputs": [
    {
     "data": {
      "text/html": [
       "<div>\n",
       "<style scoped>\n",
       "    .dataframe tbody tr th:only-of-type {\n",
       "        vertical-align: middle;\n",
       "    }\n",
       "\n",
       "    .dataframe tbody tr th {\n",
       "        vertical-align: top;\n",
       "    }\n",
       "\n",
       "    .dataframe thead th {\n",
       "        text-align: right;\n",
       "    }\n",
       "</style>\n",
       "<table border=\"1\" class=\"dataframe\">\n",
       "  <thead>\n",
       "    <tr style=\"text-align: right;\">\n",
       "      <th></th>\n",
       "      <th>Xloc</th>\n",
       "      <th>Yloc</th>\n",
       "      <th>Landuse</th>\n",
       "      <th>Rock</th>\n",
       "      <th>Cd</th>\n",
       "      <th>Co</th>\n",
       "      <th>Cr</th>\n",
       "      <th>Cu</th>\n",
       "      <th>Ni</th>\n",
       "      <th>Pb</th>\n",
       "      <th>Zn</th>\n",
       "      <th>PC_0</th>\n",
       "      <th>PC_1</th>\n",
       "      <th>PC_2</th>\n",
       "      <th>PC_3</th>\n",
       "      <th>PC_4</th>\n",
       "      <th>PC_5</th>\n",
       "      <th>PC_6</th>\n",
       "    </tr>\n",
       "  </thead>\n",
       "  <tbody>\n",
       "    <tr>\n",
       "      <th>0</th>\n",
       "      <td>238.6</td>\n",
       "      <td>307.7</td>\n",
       "      <td>3</td>\n",
       "      <td>3</td>\n",
       "      <td>1.740</td>\n",
       "      <td>9.32</td>\n",
       "      <td>38.32</td>\n",
       "      <td>25.72</td>\n",
       "      <td>21.32</td>\n",
       "      <td>77.36</td>\n",
       "      <td>92.56</td>\n",
       "      <td>27.366443</td>\n",
       "      <td>-0.069674</td>\n",
       "      <td>-10.173435</td>\n",
       "      <td>4.415520</td>\n",
       "      <td>0.721742</td>\n",
       "      <td>-0.062848</td>\n",
       "      <td>-0.003562</td>\n",
       "    </tr>\n",
       "    <tr>\n",
       "      <th>1</th>\n",
       "      <td>254.4</td>\n",
       "      <td>197.2</td>\n",
       "      <td>2</td>\n",
       "      <td>2</td>\n",
       "      <td>1.335</td>\n",
       "      <td>10.00</td>\n",
       "      <td>40.20</td>\n",
       "      <td>24.76</td>\n",
       "      <td>29.72</td>\n",
       "      <td>77.88</td>\n",
       "      <td>73.56</td>\n",
       "      <td>16.900801</td>\n",
       "      <td>10.702768</td>\n",
       "      <td>-14.474719</td>\n",
       "      <td>-8.027531</td>\n",
       "      <td>-4.928262</td>\n",
       "      <td>2.403395</td>\n",
       "      <td>-0.050510</td>\n",
       "    </tr>\n",
       "    <tr>\n",
       "      <th>2</th>\n",
       "      <td>280.7</td>\n",
       "      <td>334.7</td>\n",
       "      <td>2</td>\n",
       "      <td>3</td>\n",
       "      <td>1.610</td>\n",
       "      <td>10.60</td>\n",
       "      <td>47.00</td>\n",
       "      <td>8.88</td>\n",
       "      <td>21.40</td>\n",
       "      <td>30.80</td>\n",
       "      <td>64.80</td>\n",
       "      <td>-25.657831</td>\n",
       "      <td>-14.112541</td>\n",
       "      <td>-3.467852</td>\n",
       "      <td>-10.685950</td>\n",
       "      <td>4.689292</td>\n",
       "      <td>-1.274661</td>\n",
       "      <td>0.186141</td>\n",
       "    </tr>\n",
       "    <tr>\n",
       "      <th>3</th>\n",
       "      <td>430.8</td>\n",
       "      <td>193.3</td>\n",
       "      <td>3</td>\n",
       "      <td>2</td>\n",
       "      <td>2.150</td>\n",
       "      <td>11.92</td>\n",
       "      <td>43.52</td>\n",
       "      <td>22.70</td>\n",
       "      <td>29.72</td>\n",
       "      <td>56.40</td>\n",
       "      <td>90.00</td>\n",
       "      <td>12.540444</td>\n",
       "      <td>-14.004794</td>\n",
       "      <td>-4.063764</td>\n",
       "      <td>-5.003293</td>\n",
       "      <td>-3.571792</td>\n",
       "      <td>0.897527</td>\n",
       "      <td>0.352816</td>\n",
       "    </tr>\n",
       "    <tr>\n",
       "      <th>4</th>\n",
       "      <td>438.3</td>\n",
       "      <td>108.1</td>\n",
       "      <td>3</td>\n",
       "      <td>5</td>\n",
       "      <td>1.565</td>\n",
       "      <td>16.32</td>\n",
       "      <td>38.52</td>\n",
       "      <td>34.32</td>\n",
       "      <td>26.20</td>\n",
       "      <td>66.40</td>\n",
       "      <td>88.40</td>\n",
       "      <td>22.029496</td>\n",
       "      <td>-1.926012</td>\n",
       "      <td>1.423845</td>\n",
       "      <td>-3.775234</td>\n",
       "      <td>-5.165887</td>\n",
       "      <td>-4.059760</td>\n",
       "      <td>0.340556</td>\n",
       "    </tr>\n",
       "  </tbody>\n",
       "</table>\n",
       "</div>"
      ],
      "text/plain": [
       "    Xloc   Yloc  Landuse  Rock     Cd     Co     Cr     Cu     Ni     Pb  \\\n",
       "0  238.6  307.7        3     3  1.740   9.32  38.32  25.72  21.32  77.36   \n",
       "1  254.4  197.2        2     2  1.335  10.00  40.20  24.76  29.72  77.88   \n",
       "2  280.7  334.7        2     3  1.610  10.60  47.00   8.88  21.40  30.80   \n",
       "3  430.8  193.3        3     2  2.150  11.92  43.52  22.70  29.72  56.40   \n",
       "4  438.3  108.1        3     5  1.565  16.32  38.52  34.32  26.20  66.40   \n",
       "\n",
       "      Zn       PC_0       PC_1       PC_2       PC_3      PC_4      PC_5  \\\n",
       "0  92.56  27.366443  -0.069674 -10.173435   4.415520  0.721742 -0.062848   \n",
       "1  73.56  16.900801  10.702768 -14.474719  -8.027531 -4.928262  2.403395   \n",
       "2  64.80 -25.657831 -14.112541  -3.467852 -10.685950  4.689292 -1.274661   \n",
       "3  90.00  12.540444 -14.004794  -4.063764  -5.003293 -3.571792  0.897527   \n",
       "4  88.40  22.029496  -1.926012   1.423845  -3.775234 -5.165887 -4.059760   \n",
       "\n",
       "       PC_6  \n",
       "0 -0.003562  \n",
       "1 -0.050510  \n",
       "2  0.186141  \n",
       "3  0.352816  \n",
       "4  0.340556  "
      ]
     },
     "execution_count": 54,
     "metadata": {},
     "output_type": "execute_result"
    }
   ],
   "source": [
    "jura.head()"
   ]
  },
  {
   "cell_type": "markdown",
   "metadata": {},
   "source": [
    "# Exercício clustering"
   ]
  },
  {
   "attachments": {},
   "cell_type": "markdown",
   "metadata": {},
   "source": [
    "* Rode o algoritmo Kmeans nas variáveis contínuas do jura;\n",
    "* Plote os resultados."
   ]
  },
  {
   "cell_type": "code",
   "execution_count": 59,
   "metadata": {},
   "outputs": [],
   "source": [
    "from sklearn import cluster"
   ]
  },
  {
   "cell_type": "code",
   "execution_count": 62,
   "metadata": {},
   "outputs": [],
   "source": [
    "#Criando o objeto\n",
    "kmeans = cluster.KMeans(n_clusters=4) #Definindo o número de clusters como 4"
   ]
  },
  {
   "cell_type": "code",
   "execution_count": 65,
   "metadata": {},
   "outputs": [
    {
     "data": {
      "text/plain": [
       "KMeans(algorithm='auto', copy_x=True, init='k-means++', max_iter=300,\n",
       "       n_clusters=4, n_init=10, n_jobs=None, precompute_distances='auto',\n",
       "       random_state=None, tol=0.0001, verbose=0)"
      ]
     },
     "execution_count": 65,
     "metadata": {},
     "output_type": "execute_result"
    }
   ],
   "source": [
    "#Fitando \n",
    "kmeans.fit(X)"
   ]
  },
  {
   "cell_type": "code",
   "execution_count": 69,
   "metadata": {},
   "outputs": [],
   "source": [
    "jura['kmeans'] = kmeans.labels_"
   ]
  },
  {
   "cell_type": "code",
   "execution_count": 71,
   "metadata": {},
   "outputs": [],
   "source": [
    "import matplotlib.pyplot as plt"
   ]
  },
  {
   "cell_type": "code",
   "execution_count": 85,
   "metadata": {},
   "outputs": [
    {
     "data": {
      "image/png": "[encoded data removed]",
      "text/plain": [
       "<Figure size 720x720 with 2 Axes>"
      ]
     },
     "metadata": {},
     "output_type": "display_data"
    }
   ],
   "source": [
    "plt.figure(figsize=(10,10))\n",
    "plt.scatter(jura['Xloc'], jura['Yloc'], c=jura['kmeans'], cmap=plt.cm.get_cmap('Set1',4))\n",
    "plt.axis('scaled')\n",
    "plt.colorbar(ticks=range(5))\n",
    "plt.show()"
   ]
  },
  {
   "cell_type": "markdown",
   "metadata": {},
   "source": [
    "# Exercício ML supervisionado (classificação)"
   ]
  },
  {
   "cell_type": "markdown",
   "metadata": {},
   "source": [
    "* Treine um classificador random forest para classificar removed_cat a partir das variáveis contínuas;\n",
    "* Classifique onde removed_cat é NaN."
   ]
  },
  {
   "cell_type": "code",
   "execution_count": 87,
   "metadata": {},
   "outputs": [],
   "source": [
    "import numpy as np"
   ]
  },
  {
   "cell_type": "code",
   "execution_count": 97,
   "metadata": {},
   "outputs": [],
   "source": [
    "#Definindo um array com os índices dos ítens removidos\n",
    "indexes = np.random.randint(0, len(jura['Rock']), int(len(jura['Rock'])*0.1))"
   ]
  },
  {
   "cell_type": "code",
   "execution_count": 109,
   "metadata": {},
   "outputs": [],
   "source": [
    "#Copiando a coluna Rock na array removed_cat\n",
    "removed_cat = jura['Rock'].values.copy()"
   ]
  },
  {
   "cell_type": "code",
   "execution_count": 123,
   "metadata": {},
   "outputs": [],
   "source": [
    "#Subsituindo onde existe NaN por -999. Necessário por questoes computacionais\n",
    "removed_cat[indexes] = -999"
   ]
  },
  {
   "cell_type": "code",
   "execution_count": 124,
   "metadata": {},
   "outputs": [],
   "source": [
    "#Redefinindo removed_cat com NaN onde é -999\n",
    "removed_cat = np.where(removed_cat==-999, np.nan, removed_cat)"
   ]
  },
  {
   "cell_type": "code",
   "execution_count": 125,
   "metadata": {},
   "outputs": [],
   "source": [
    "#Adicionando ao dataframe\n",
    "jura['removed_cat'] = removed_cat"
   ]
  },
  {
   "cell_type": "code",
   "execution_count": 126,
   "metadata": {},
   "outputs": [],
   "source": [
    "#Definindo o subconjunto de dados para treino (das variáveis dependentes)\n",
    "X_train = jura.dropna()[['Cd', 'Co', 'Cr', 'Cu', 'Ni', 'Pb', 'Zn']]"
   ]
  },
  {
   "cell_type": "code",
   "execution_count": 127,
   "metadata": {},
   "outputs": [],
   "source": [
    "#Definindo o subconjunto 'resposta' de dados para treino (variável independente)\n",
    "y_train = jura.dropna()[['removed_cat']]"
   ]
  },
  {
   "cell_type": "code",
   "execution_count": 133,
   "metadata": {},
   "outputs": [],
   "source": [
    "#Definindo o subconjunto de dados para predição\n",
    "filtro = np.isnan(jura['removed_cat']) #Filtrando onde não há Rock\n",
    "X_prediction = jura[['Cd', 'Co', 'Cr', 'Cu', 'Ni', 'Pb', 'Zn']][filtro].values #Definindo o subconjunto de variáveis dependentes onde não há Rock"
   ]
  },
  {
   "cell_type": "code",
   "execution_count": 134,
   "metadata": {},
   "outputs": [],
   "source": [
    "from sklearn import ensemble"
   ]
  },
  {
   "cell_type": "code",
   "execution_count": 135,
   "metadata": {},
   "outputs": [],
   "source": [
    "#Criando o objeto\n",
    "rf = ensemble.RandomForestClassifier()"
   ]
  },
  {
   "cell_type": "code",
   "execution_count": 136,
   "metadata": {},
   "outputs": [
    {
     "name": "stderr",
     "output_type": "stream",
     "text": [
      "C:\\Anaconda3\\lib\\site-packages\\sklearn\\ensemble\\forest.py:245: FutureWarning: The default value of n_estimators will change from 10 in version 0.20 to 100 in 0.22.\n",
      "  \"10 in version 0.20 to 100 in 0.22.\", FutureWarning)\n",
      "C:\\Anaconda3\\lib\\site-packages\\ipykernel_launcher.py:2: DataConversionWarning: A column-vector y was passed when a 1d array was expected. Please change the shape of y to (n_samples,), for example using ravel().\n",
      "  \n"
     ]
    },
    {
     "data": {
      "text/plain": [
       "RandomForestClassifier(bootstrap=True, class_weight=None, criterion='gini',\n",
       "                       max_depth=None, max_features='auto', max_leaf_nodes=None,\n",
       "                       min_impurity_decrease=0.0, min_impurity_split=None,\n",
       "                       min_samples_leaf=1, min_samples_split=2,\n",
       "                       min_weight_fraction_leaf=0.0, n_estimators=10,\n",
       "                       n_jobs=None, oob_score=False, random_state=None,\n",
       "                       verbose=0, warm_start=False)"
      ]
     },
     "execution_count": 136,
     "metadata": {},
     "output_type": "execute_result"
    }
   ],
   "source": [
    "#Fitando (usando os subconjuntos de dados de treino)\n",
    "rf.fit(X_train, y_train)"
   ]
  },
  {
   "cell_type": "code",
   "execution_count": 137,
   "metadata": {},
   "outputs": [
    {
     "data": {
      "text/plain": [
       "array([2., 3., 2., 3., 2., 1., 3., 5., 3., 1., 1., 3., 1., 2., 2., 3., 3.,\n",
       "       3., 1., 2., 1., 5., 5., 2.])"
      ]
     },
     "execution_count": 137,
     "metadata": {},
     "output_type": "execute_result"
    }
   ],
   "source": [
    "#Predizendo (usando o subconjunto de dados de predição)\n",
    "rf.predict(X_prediction)"
   ]
  },
  {
   "cell_type": "markdown",
   "metadata": {},
   "source": [
    "# Exercício ML supervisionado (regressão)"
   ]
  },
  {
   "cell_type": "markdown",
   "metadata": {},
   "source": [
    "* Treine um regressor random forest para classificar removed_cd a partir das variáveis contínuas;\n",
    "* Classifique onde removed_cd é NaN."
   ]
  },
  {
   "cell_type": "code",
   "execution_count": 140,
   "metadata": {},
   "outputs": [],
   "source": [
    "import numpy as np"
   ]
  },
  {
   "cell_type": "code",
   "execution_count": 141,
   "metadata": {},
   "outputs": [],
   "source": [
    "#Definindo um array com os índices dos ítens removidos\n",
    "indexes = np.random.randint(0, len(jura['Cd']), int(len(jura['Cd'])*0.1))"
   ]
  },
  {
   "cell_type": "code",
   "execution_count": 142,
   "metadata": {},
   "outputs": [],
   "source": [
    "#Copiando a coluna Cd na array removed_cat\n",
    "removed_cat = jura['Cd'].values.copy()"
   ]
  },
  {
   "cell_type": "code",
   "execution_count": 143,
   "metadata": {},
   "outputs": [],
   "source": [
    "#Subsituindo onde existe NaN por -999. Necessário por questoes computacionais\n",
    "removed_cat[indexes] = -999"
   ]
  },
  {
   "cell_type": "code",
   "execution_count": 144,
   "metadata": {},
   "outputs": [],
   "source": [
    "#Redefinindo removed_cat com NaN onde é -999\n",
    "removed_cat = np.where(removed_cat==-999, np.nan, removed_cat)"
   ]
  },
  {
   "cell_type": "code",
   "execution_count": 145,
   "metadata": {},
   "outputs": [],
   "source": [
    "#Adicionando ao dataframe\n",
    "jura['removed_cat'] = removed_cat"
   ]
  },
  {
   "cell_type": "code",
   "execution_count": 146,
   "metadata": {},
   "outputs": [],
   "source": [
    "#Definindo o subconjunto de dados para treino (das variáveis dependentes)\n",
    "X_train = jura.dropna()[['Co', 'Cr', 'Cu', 'Ni', 'Pb', 'Zn']]"
   ]
  },
  {
   "cell_type": "code",
   "execution_count": 147,
   "metadata": {},
   "outputs": [],
   "source": [
    "#Definindo o subconjunto 'resposta' de dados para treino (variável independente)\n",
    "y_train = jura.dropna()[['removed_cat']]"
   ]
  },
  {
   "cell_type": "code",
   "execution_count": 148,
   "metadata": {},
   "outputs": [],
   "source": [
    "#Definindo o subconjunto de dados para predição\n",
    "filtro = np.isnan(jura['removed_cat']) #Filtrando onde não há Rock\n",
    "X_prediction = jura[['Co', 'Cr', 'Cu', 'Ni', 'Pb', 'Zn']][filtro].values #Definindo o subconjunto de variáveis dependentes onde não há Rock"
   ]
  },
  {
   "cell_type": "code",
   "execution_count": 149,
   "metadata": {},
   "outputs": [],
   "source": [
    "from sklearn import ensemble"
   ]
  },
  {
   "cell_type": "code",
   "execution_count": 150,
   "metadata": {},
   "outputs": [],
   "source": [
    "#Criando o objeto\n",
    "rf = ensemble.RandomForestRegressor()"
   ]
  },
  {
   "cell_type": "code",
   "execution_count": 151,
   "metadata": {},
   "outputs": [
    {
     "name": "stderr",
     "output_type": "stream",
     "text": [
      "C:\\Anaconda3\\lib\\site-packages\\sklearn\\ensemble\\forest.py:245: FutureWarning: The default value of n_estimators will change from 10 in version 0.20 to 100 in 0.22.\n",
      "  \"10 in version 0.20 to 100 in 0.22.\", FutureWarning)\n",
      "C:\\Anaconda3\\lib\\site-packages\\ipykernel_launcher.py:2: DataConversionWarning: A column-vector y was passed when a 1d array was expected. Please change the shape of y to (n_samples,), for example using ravel().\n",
      "  \n"
     ]
    },
    {
     "data": {
      "text/plain": [
       "RandomForestRegressor(bootstrap=True, criterion='mse', max_depth=None,\n",
       "                      max_features='auto', max_leaf_nodes=None,\n",
       "                      min_impurity_decrease=0.0, min_impurity_split=None,\n",
       "                      min_samples_leaf=1, min_samples_split=2,\n",
       "                      min_weight_fraction_leaf=0.0, n_estimators=10,\n",
       "                      n_jobs=None, oob_score=False, random_state=None,\n",
       "                      verbose=0, warm_start=False)"
      ]
     },
     "execution_count": 151,
     "metadata": {},
     "output_type": "execute_result"
    }
   ],
   "source": [
    "#Fitando (usando os subconjuntos de dados de treino)\n",
    "rf.fit(X_train, y_train)"
   ]
  },
  {
   "cell_type": "code",
   "execution_count": 152,
   "metadata": {},
   "outputs": [
    {
     "data": {
      "text/plain": [
       "array([1.7451, 1.0267, 2.6547, 0.882 , 1.1178, 0.485 , 0.783 , 1.9496,\n",
       "       1.2767, 1.5664, 1.6285, 2.079 , 0.6415, 0.2895, 1.477 , 1.4575,\n",
       "       1.771 , 1.885 , 1.2474, 0.264 , 1.4035, 0.8935, 0.5965, 0.8065,\n",
       "       0.747 ])"
      ]
     },
     "execution_count": 152,
     "metadata": {},
     "output_type": "execute_result"
    }
   ],
   "source": [
    "#Predizendo (usando o subconjunto de dados de predição)\n",
    "rf.predict(X_prediction)"
   ]
  }
 ],
 "metadata": {
  "kernelspec": {
   "display_name": "Python 3",
   "language": "python",
   "name": "python3"
  },
  "language_info": {
   "codemirror_mode": {
    "name": "ipython",
    "version": 3
   },
   "file_extension": ".py",
   "mimetype": "text/x-python",
   "name": "python",
   "nbconvert_exporter": "python",
   "pygments_lexer": "ipython3",
   "version": "3.6.5"
  }
 },
 "nbformat": 4,
 "nbformat_minor": 2
}
