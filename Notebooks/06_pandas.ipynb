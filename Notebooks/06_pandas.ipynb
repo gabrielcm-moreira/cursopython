{
 "cells": [
  {
   "cell_type": "markdown",
   "metadata": {},
   "source": [
    "# Exercícios Pandas"
   ]
  },
  {
   "cell_type": "code",
   "execution_count": 25,
   "metadata": {},
   "outputs": [],
   "source": [
    "import pandas as pd"
   ]
  },
  {
   "cell_type": "code",
   "execution_count": 26,
   "metadata": {},
   "outputs": [],
   "source": [
    "#Criando dicionário\n",
    "dic = {'col1':[1,2,3,4,5], 'col2': [5,4,3,2,1]}"
   ]
  },
  {
   "cell_type": "code",
   "execution_count": 27,
   "metadata": {},
   "outputs": [],
   "source": [
    "#Criando o dataframe a partir do dicionario criado acima\n",
    "df = pd.DataFrame(dic)"
   ]
  },
  {
   "cell_type": "code",
   "execution_count": 28,
   "metadata": {},
   "outputs": [
    {
     "data": {
      "text/html": [
       "<div>\n",
       "<style scoped>\n",
       "    .dataframe tbody tr th:only-of-type {\n",
       "        vertical-align: middle;\n",
       "    }\n",
       "\n",
       "    .dataframe tbody tr th {\n",
       "        vertical-align: top;\n",
       "    }\n",
       "\n",
       "    .dataframe thead th {\n",
       "        text-align: right;\n",
       "    }\n",
       "</style>\n",
       "<table border=\"1\" class=\"dataframe\">\n",
       "  <thead>\n",
       "    <tr style=\"text-align: right;\">\n",
       "      <th></th>\n",
       "      <th>col1</th>\n",
       "      <th>col2</th>\n",
       "    </tr>\n",
       "  </thead>\n",
       "  <tbody>\n",
       "    <tr>\n",
       "      <th>0</th>\n",
       "      <td>1</td>\n",
       "      <td>5</td>\n",
       "    </tr>\n",
       "    <tr>\n",
       "      <th>1</th>\n",
       "      <td>2</td>\n",
       "      <td>4</td>\n",
       "    </tr>\n",
       "    <tr>\n",
       "      <th>2</th>\n",
       "      <td>3</td>\n",
       "      <td>3</td>\n",
       "    </tr>\n",
       "    <tr>\n",
       "      <th>3</th>\n",
       "      <td>4</td>\n",
       "      <td>2</td>\n",
       "    </tr>\n",
       "    <tr>\n",
       "      <th>4</th>\n",
       "      <td>5</td>\n",
       "      <td>1</td>\n",
       "    </tr>\n",
       "  </tbody>\n",
       "</table>\n",
       "</div>"
      ],
      "text/plain": [
       "   col1  col2\n",
       "0     1     5\n",
       "1     2     4\n",
       "2     3     3\n",
       "3     4     2\n",
       "4     5     1"
      ]
     },
     "execution_count": 28,
     "metadata": {},
     "output_type": "execute_result"
    }
   ],
   "source": [
    "df"
   ]
  },
  {
   "cell_type": "code",
   "execution_count": 29,
   "metadata": {},
   "outputs": [],
   "source": [
    "#Criando um numpy array\n",
    "import numpy as np\n",
    "array = np.array([[1,2,3,4,5], [5,4,3,2,1]])\n",
    "array = array.T"
   ]
  },
  {
   "cell_type": "code",
   "execution_count": 40,
   "metadata": {},
   "outputs": [],
   "source": [
    "#Criando o dataframe a partir do array criado acima e definindo os nomes das colunas\n",
    "df2 = pd.DataFrame(array, columns=('col1','col2'))"
   ]
  },
  {
   "cell_type": "code",
   "execution_count": 41,
   "metadata": {},
   "outputs": [
    {
     "data": {
      "text/html": [
       "<div>\n",
       "<style scoped>\n",
       "    .dataframe tbody tr th:only-of-type {\n",
       "        vertical-align: middle;\n",
       "    }\n",
       "\n",
       "    .dataframe tbody tr th {\n",
       "        vertical-align: top;\n",
       "    }\n",
       "\n",
       "    .dataframe thead th {\n",
       "        text-align: right;\n",
       "    }\n",
       "</style>\n",
       "<table border=\"1\" class=\"dataframe\">\n",
       "  <thead>\n",
       "    <tr style=\"text-align: right;\">\n",
       "      <th></th>\n",
       "      <th>col1</th>\n",
       "      <th>col2</th>\n",
       "    </tr>\n",
       "  </thead>\n",
       "  <tbody>\n",
       "    <tr>\n",
       "      <th>0</th>\n",
       "      <td>1</td>\n",
       "      <td>5</td>\n",
       "    </tr>\n",
       "    <tr>\n",
       "      <th>1</th>\n",
       "      <td>2</td>\n",
       "      <td>4</td>\n",
       "    </tr>\n",
       "    <tr>\n",
       "      <th>2</th>\n",
       "      <td>3</td>\n",
       "      <td>3</td>\n",
       "    </tr>\n",
       "    <tr>\n",
       "      <th>3</th>\n",
       "      <td>4</td>\n",
       "      <td>2</td>\n",
       "    </tr>\n",
       "    <tr>\n",
       "      <th>4</th>\n",
       "      <td>5</td>\n",
       "      <td>1</td>\n",
       "    </tr>\n",
       "  </tbody>\n",
       "</table>\n",
       "</div>"
      ],
      "text/plain": [
       "   col1  col2\n",
       "0     1     5\n",
       "1     2     4\n",
       "2     3     3\n",
       "3     4     2\n",
       "4     5     1"
      ]
     },
     "execution_count": 41,
     "metadata": {},
     "output_type": "execute_result"
    }
   ],
   "source": [
    "df2"
   ]
  },
  {
   "cell_type": "markdown",
   "metadata": {},
   "source": [
    "Crie um DataFrame a partir do banco de dados sintético criado no curso de numpy."
   ]
  },
  {
   "cell_type": "code",
   "execution_count": 44,
   "metadata": {},
   "outputs": [],
   "source": [
    "data = np.random.random((100,4))"
   ]
  },
  {
   "cell_type": "code",
   "execution_count": 47,
   "metadata": {},
   "outputs": [
    {
     "data": {
      "text/html": [
       "<div>\n",
       "<style scoped>\n",
       "    .dataframe tbody tr th:only-of-type {\n",
       "        vertical-align: middle;\n",
       "    }\n",
       "\n",
       "    .dataframe tbody tr th {\n",
       "        vertical-align: top;\n",
       "    }\n",
       "\n",
       "    .dataframe thead th {\n",
       "        text-align: right;\n",
       "    }\n",
       "</style>\n",
       "<table border=\"1\" class=\"dataframe\">\n",
       "  <thead>\n",
       "    <tr style=\"text-align: right;\">\n",
       "      <th></th>\n",
       "      <th>coluna1</th>\n",
       "      <th>coluna2</th>\n",
       "      <th>coluna3</th>\n",
       "      <th>coluna4</th>\n",
       "    </tr>\n",
       "  </thead>\n",
       "  <tbody>\n",
       "    <tr>\n",
       "      <th>0</th>\n",
       "      <td>0.984881</td>\n",
       "      <td>0.387123</td>\n",
       "      <td>0.926324</td>\n",
       "      <td>0.307606</td>\n",
       "    </tr>\n",
       "    <tr>\n",
       "      <th>1</th>\n",
       "      <td>0.947156</td>\n",
       "      <td>0.263945</td>\n",
       "      <td>0.592952</td>\n",
       "      <td>0.627624</td>\n",
       "    </tr>\n",
       "    <tr>\n",
       "      <th>2</th>\n",
       "      <td>0.672400</td>\n",
       "      <td>0.512815</td>\n",
       "      <td>0.922006</td>\n",
       "      <td>0.259857</td>\n",
       "    </tr>\n",
       "    <tr>\n",
       "      <th>3</th>\n",
       "      <td>0.796655</td>\n",
       "      <td>0.494930</td>\n",
       "      <td>0.802754</td>\n",
       "      <td>0.275007</td>\n",
       "    </tr>\n",
       "    <tr>\n",
       "      <th>4</th>\n",
       "      <td>0.145826</td>\n",
       "      <td>0.204633</td>\n",
       "      <td>0.222103</td>\n",
       "      <td>0.185289</td>\n",
       "    </tr>\n",
       "  </tbody>\n",
       "</table>\n",
       "</div>"
      ],
      "text/plain": [
       "    coluna1   coluna2   coluna3   coluna4\n",
       "0  0.984881  0.387123  0.926324  0.307606\n",
       "1  0.947156  0.263945  0.592952  0.627624\n",
       "2  0.672400  0.512815  0.922006  0.259857\n",
       "3  0.796655  0.494930  0.802754  0.275007\n",
       "4  0.145826  0.204633  0.222103  0.185289"
      ]
     },
     "execution_count": 47,
     "metadata": {},
     "output_type": "execute_result"
    }
   ],
   "source": [
    "df3 = pd.DataFrame(data, columns=('coluna1','coluna2','coluna3','coluna4'))\n",
    "df3.head()"
   ]
  },
  {
   "cell_type": "code",
   "execution_count": 53,
   "metadata": {},
   "outputs": [],
   "source": [
    "#Transformando o df3 em uma numpy array\n",
    "df3_array = df3.values"
   ]
  },
  {
   "cell_type": "markdown",
   "metadata": {},
   "source": [
    "# Exercício importaçao "
   ]
  },
  {
   "cell_type": "markdown",
   "metadata": {},
   "source": [
    "Importe o arquivo data/jura.csv como um DataFrame;\n",
    "Use o método head para checar se está tudo OK. "
   ]
  },
  {
   "cell_type": "code",
   "execution_count": 65,
   "metadata": {},
   "outputs": [],
   "source": [
    "#Importando\n",
    "jura = pd.read_csv('data\\jura.csv')"
   ]
  },
  {
   "cell_type": "code",
   "execution_count": 66,
   "metadata": {},
   "outputs": [
    {
     "data": {
      "text/html": [
       "<div>\n",
       "<style scoped>\n",
       "    .dataframe tbody tr th:only-of-type {\n",
       "        vertical-align: middle;\n",
       "    }\n",
       "\n",
       "    .dataframe tbody tr th {\n",
       "        vertical-align: top;\n",
       "    }\n",
       "\n",
       "    .dataframe thead th {\n",
       "        text-align: right;\n",
       "    }\n",
       "</style>\n",
       "<table border=\"1\" class=\"dataframe\">\n",
       "  <thead>\n",
       "    <tr style=\"text-align: right;\">\n",
       "      <th></th>\n",
       "      <th>Xloc</th>\n",
       "      <th>Yloc</th>\n",
       "      <th>Landuse</th>\n",
       "      <th>Rock</th>\n",
       "      <th>Cd</th>\n",
       "      <th>Co</th>\n",
       "      <th>Cr</th>\n",
       "      <th>Cu</th>\n",
       "      <th>Ni</th>\n",
       "      <th>Pb</th>\n",
       "      <th>Zn</th>\n",
       "    </tr>\n",
       "  </thead>\n",
       "  <tbody>\n",
       "    <tr>\n",
       "      <th>0</th>\n",
       "      <td>238.6</td>\n",
       "      <td>307.7</td>\n",
       "      <td>3</td>\n",
       "      <td>3</td>\n",
       "      <td>1.740</td>\n",
       "      <td>9.32</td>\n",
       "      <td>38.32</td>\n",
       "      <td>25.72</td>\n",
       "      <td>21.32</td>\n",
       "      <td>77.36</td>\n",
       "      <td>92.56</td>\n",
       "    </tr>\n",
       "    <tr>\n",
       "      <th>1</th>\n",
       "      <td>254.4</td>\n",
       "      <td>197.2</td>\n",
       "      <td>2</td>\n",
       "      <td>2</td>\n",
       "      <td>1.335</td>\n",
       "      <td>10.00</td>\n",
       "      <td>40.20</td>\n",
       "      <td>24.76</td>\n",
       "      <td>29.72</td>\n",
       "      <td>77.88</td>\n",
       "      <td>73.56</td>\n",
       "    </tr>\n",
       "    <tr>\n",
       "      <th>2</th>\n",
       "      <td>280.7</td>\n",
       "      <td>334.7</td>\n",
       "      <td>2</td>\n",
       "      <td>3</td>\n",
       "      <td>1.610</td>\n",
       "      <td>10.60</td>\n",
       "      <td>47.00</td>\n",
       "      <td>8.88</td>\n",
       "      <td>21.40</td>\n",
       "      <td>30.80</td>\n",
       "      <td>64.80</td>\n",
       "    </tr>\n",
       "  </tbody>\n",
       "</table>\n",
       "</div>"
      ],
      "text/plain": [
       "    Xloc   Yloc  Landuse  Rock     Cd     Co     Cr     Cu     Ni     Pb  \\\n",
       "0  238.6  307.7        3     3  1.740   9.32  38.32  25.72  21.32  77.36   \n",
       "1  254.4  197.2        2     2  1.335  10.00  40.20  24.76  29.72  77.88   \n",
       "2  280.7  334.7        2     3  1.610  10.60  47.00   8.88  21.40  30.80   \n",
       "\n",
       "      Zn  \n",
       "0  92.56  \n",
       "1  73.56  \n",
       "2  64.80  "
      ]
     },
     "execution_count": 66,
     "metadata": {},
     "output_type": "execute_result"
    }
   ],
   "source": [
    "#Verificando\n",
    "jura.head(3)"
   ]
  },
  {
   "cell_type": "markdown",
   "metadata": {},
   "source": [
    "# exercicio"
   ]
  },
  {
   "attachments": {},
   "cell_type": "markdown",
   "metadata": {},
   "source": [
    "* Filtre somente as colunas contínuas, com exceção de X e Y;\n",
    "* Use o método describe no dataframe filtrado;\n",
    "* Crie um objeto groupby a partir da variável Rock e use o método describe nesse objeto;\n",
    "* Imprima o intervalo entre as linhas 40 e 50 da variável Rock.\n",
    "* Crie uma nova coluna que é a variável Cd capeada no P90. dica: np.where()\n",
    "* Exporte em formato csv o novo dataset."
   ]
  },
  {
   "cell_type": "code",
   "execution_count": 108,
   "metadata": {},
   "outputs": [],
   "source": [
    "#Filtrando somente colunas continuas\n",
    "filtro = jura[['Cd', 'Co', 'Cr', 'Cu', 'Ni', 'Pb', 'Zn']]"
   ]
  },
  {
   "cell_type": "code",
   "execution_count": 109,
   "metadata": {},
   "outputs": [
    {
     "data": {
      "text/html": [
       "<div>\n",
       "<style scoped>\n",
       "    .dataframe tbody tr th:only-of-type {\n",
       "        vertical-align: middle;\n",
       "    }\n",
       "\n",
       "    .dataframe tbody tr th {\n",
       "        vertical-align: top;\n",
       "    }\n",
       "\n",
       "    .dataframe thead th {\n",
       "        text-align: right;\n",
       "    }\n",
       "</style>\n",
       "<table border=\"1\" class=\"dataframe\">\n",
       "  <thead>\n",
       "    <tr style=\"text-align: right;\">\n",
       "      <th></th>\n",
       "      <th>Cd</th>\n",
       "      <th>Co</th>\n",
       "      <th>Cr</th>\n",
       "      <th>Cu</th>\n",
       "      <th>Ni</th>\n",
       "      <th>Pb</th>\n",
       "      <th>Zn</th>\n",
       "    </tr>\n",
       "  </thead>\n",
       "  <tbody>\n",
       "    <tr>\n",
       "      <th>0</th>\n",
       "      <td>1.740</td>\n",
       "      <td>9.32</td>\n",
       "      <td>38.32</td>\n",
       "      <td>25.72</td>\n",
       "      <td>21.32</td>\n",
       "      <td>77.36</td>\n",
       "      <td>92.56</td>\n",
       "    </tr>\n",
       "    <tr>\n",
       "      <th>1</th>\n",
       "      <td>1.335</td>\n",
       "      <td>10.00</td>\n",
       "      <td>40.20</td>\n",
       "      <td>24.76</td>\n",
       "      <td>29.72</td>\n",
       "      <td>77.88</td>\n",
       "      <td>73.56</td>\n",
       "    </tr>\n",
       "    <tr>\n",
       "      <th>2</th>\n",
       "      <td>1.610</td>\n",
       "      <td>10.60</td>\n",
       "      <td>47.00</td>\n",
       "      <td>8.88</td>\n",
       "      <td>21.40</td>\n",
       "      <td>30.80</td>\n",
       "      <td>64.80</td>\n",
       "    </tr>\n",
       "    <tr>\n",
       "      <th>3</th>\n",
       "      <td>2.150</td>\n",
       "      <td>11.92</td>\n",
       "      <td>43.52</td>\n",
       "      <td>22.70</td>\n",
       "      <td>29.72</td>\n",
       "      <td>56.40</td>\n",
       "      <td>90.00</td>\n",
       "    </tr>\n",
       "    <tr>\n",
       "      <th>4</th>\n",
       "      <td>1.565</td>\n",
       "      <td>16.32</td>\n",
       "      <td>38.52</td>\n",
       "      <td>34.32</td>\n",
       "      <td>26.20</td>\n",
       "      <td>66.40</td>\n",
       "      <td>88.40</td>\n",
       "    </tr>\n",
       "  </tbody>\n",
       "</table>\n",
       "</div>"
      ],
      "text/plain": [
       "      Cd     Co     Cr     Cu     Ni     Pb     Zn\n",
       "0  1.740   9.32  38.32  25.72  21.32  77.36  92.56\n",
       "1  1.335  10.00  40.20  24.76  29.72  77.88  73.56\n",
       "2  1.610  10.60  47.00   8.88  21.40  30.80  64.80\n",
       "3  2.150  11.92  43.52  22.70  29.72  56.40  90.00\n",
       "4  1.565  16.32  38.52  34.32  26.20  66.40  88.40"
      ]
     },
     "execution_count": 109,
     "metadata": {},
     "output_type": "execute_result"
    }
   ],
   "source": [
    "#Verificando\n",
    "filtro.head()"
   ]
  },
  {
   "cell_type": "code",
   "execution_count": 110,
   "metadata": {},
   "outputs": [
    {
     "data": {
      "text/html": [
       "<div>\n",
       "<style scoped>\n",
       "    .dataframe tbody tr th:only-of-type {\n",
       "        vertical-align: middle;\n",
       "    }\n",
       "\n",
       "    .dataframe tbody tr th {\n",
       "        vertical-align: top;\n",
       "    }\n",
       "\n",
       "    .dataframe thead th {\n",
       "        text-align: right;\n",
       "    }\n",
       "</style>\n",
       "<table border=\"1\" class=\"dataframe\">\n",
       "  <thead>\n",
       "    <tr style=\"text-align: right;\">\n",
       "      <th></th>\n",
       "      <th>Cd</th>\n",
       "      <th>Co</th>\n",
       "      <th>Cr</th>\n",
       "      <th>Cu</th>\n",
       "      <th>Ni</th>\n",
       "      <th>Pb</th>\n",
       "      <th>Zn</th>\n",
       "    </tr>\n",
       "  </thead>\n",
       "  <tbody>\n",
       "    <tr>\n",
       "      <th>count</th>\n",
       "      <td>259.000000</td>\n",
       "      <td>259.000000</td>\n",
       "      <td>259.000000</td>\n",
       "      <td>259.000000</td>\n",
       "      <td>259.000000</td>\n",
       "      <td>259.000000</td>\n",
       "      <td>259.000000</td>\n",
       "    </tr>\n",
       "    <tr>\n",
       "      <th>mean</th>\n",
       "      <td>1.309077</td>\n",
       "      <td>9.302579</td>\n",
       "      <td>35.070116</td>\n",
       "      <td>23.727490</td>\n",
       "      <td>19.730347</td>\n",
       "      <td>53.916602</td>\n",
       "      <td>75.078301</td>\n",
       "    </tr>\n",
       "    <tr>\n",
       "      <th>std</th>\n",
       "      <td>0.915188</td>\n",
       "      <td>3.576046</td>\n",
       "      <td>10.957509</td>\n",
       "      <td>20.712635</td>\n",
       "      <td>8.232858</td>\n",
       "      <td>29.792158</td>\n",
       "      <td>29.019291</td>\n",
       "    </tr>\n",
       "    <tr>\n",
       "      <th>min</th>\n",
       "      <td>0.135000</td>\n",
       "      <td>1.552000</td>\n",
       "      <td>8.720000</td>\n",
       "      <td>3.960000</td>\n",
       "      <td>4.200000</td>\n",
       "      <td>18.960000</td>\n",
       "      <td>25.200000</td>\n",
       "    </tr>\n",
       "    <tr>\n",
       "      <th>25%</th>\n",
       "      <td>0.637500</td>\n",
       "      <td>6.520000</td>\n",
       "      <td>27.440000</td>\n",
       "      <td>11.020000</td>\n",
       "      <td>13.800000</td>\n",
       "      <td>36.520000</td>\n",
       "      <td>55.000000</td>\n",
       "    </tr>\n",
       "    <tr>\n",
       "      <th>50%</th>\n",
       "      <td>1.070000</td>\n",
       "      <td>9.760000</td>\n",
       "      <td>34.840000</td>\n",
       "      <td>17.600000</td>\n",
       "      <td>20.560000</td>\n",
       "      <td>46.400000</td>\n",
       "      <td>73.560000</td>\n",
       "    </tr>\n",
       "    <tr>\n",
       "      <th>75%</th>\n",
       "      <td>1.715000</td>\n",
       "      <td>11.980000</td>\n",
       "      <td>42.220000</td>\n",
       "      <td>27.820000</td>\n",
       "      <td>25.420000</td>\n",
       "      <td>60.400000</td>\n",
       "      <td>89.920000</td>\n",
       "    </tr>\n",
       "    <tr>\n",
       "      <th>max</th>\n",
       "      <td>5.129000</td>\n",
       "      <td>17.720000</td>\n",
       "      <td>67.600000</td>\n",
       "      <td>166.400000</td>\n",
       "      <td>53.200000</td>\n",
       "      <td>229.560000</td>\n",
       "      <td>219.320000</td>\n",
       "    </tr>\n",
       "  </tbody>\n",
       "</table>\n",
       "</div>"
      ],
      "text/plain": [
       "               Cd          Co          Cr          Cu          Ni          Pb  \\\n",
       "count  259.000000  259.000000  259.000000  259.000000  259.000000  259.000000   \n",
       "mean     1.309077    9.302579   35.070116   23.727490   19.730347   53.916602   \n",
       "std      0.915188    3.576046   10.957509   20.712635    8.232858   29.792158   \n",
       "min      0.135000    1.552000    8.720000    3.960000    4.200000   18.960000   \n",
       "25%      0.637500    6.520000   27.440000   11.020000   13.800000   36.520000   \n",
       "50%      1.070000    9.760000   34.840000   17.600000   20.560000   46.400000   \n",
       "75%      1.715000   11.980000   42.220000   27.820000   25.420000   60.400000   \n",
       "max      5.129000   17.720000   67.600000  166.400000   53.200000  229.560000   \n",
       "\n",
       "               Zn  \n",
       "count  259.000000  \n",
       "mean    75.078301  \n",
       "std     29.019291  \n",
       "min     25.200000  \n",
       "25%     55.000000  \n",
       "50%     73.560000  \n",
       "75%     89.920000  \n",
       "max    219.320000  "
      ]
     },
     "execution_count": 110,
     "metadata": {},
     "output_type": "execute_result"
    }
   ],
   "source": [
    "#Usando o método describe\n",
    "filtro.describe()"
   ]
  },
  {
   "cell_type": "code",
   "execution_count": 111,
   "metadata": {},
   "outputs": [
    {
     "data": {
      "text/html": [
       "<div>\n",
       "<style scoped>\n",
       "    .dataframe tbody tr th:only-of-type {\n",
       "        vertical-align: middle;\n",
       "    }\n",
       "\n",
       "    .dataframe tbody tr th {\n",
       "        vertical-align: top;\n",
       "    }\n",
       "\n",
       "    .dataframe thead tr th {\n",
       "        text-align: left;\n",
       "    }\n",
       "\n",
       "    .dataframe thead tr:last-of-type th {\n",
       "        text-align: right;\n",
       "    }\n",
       "</style>\n",
       "<table border=\"1\" class=\"dataframe\">\n",
       "  <thead>\n",
       "    <tr>\n",
       "      <th></th>\n",
       "      <th colspan=\"8\" halign=\"left\">Cd</th>\n",
       "      <th colspan=\"2\" halign=\"left\">Co</th>\n",
       "      <th>...</th>\n",
       "      <th colspan=\"2\" halign=\"left\">Pb</th>\n",
       "      <th colspan=\"8\" halign=\"left\">Zn</th>\n",
       "    </tr>\n",
       "    <tr>\n",
       "      <th></th>\n",
       "      <th>count</th>\n",
       "      <th>mean</th>\n",
       "      <th>std</th>\n",
       "      <th>min</th>\n",
       "      <th>25%</th>\n",
       "      <th>50%</th>\n",
       "      <th>75%</th>\n",
       "      <th>max</th>\n",
       "      <th>count</th>\n",
       "      <th>mean</th>\n",
       "      <th>...</th>\n",
       "      <th>75%</th>\n",
       "      <th>max</th>\n",
       "      <th>count</th>\n",
       "      <th>mean</th>\n",
       "      <th>std</th>\n",
       "      <th>min</th>\n",
       "      <th>25%</th>\n",
       "      <th>50%</th>\n",
       "      <th>75%</th>\n",
       "      <th>max</th>\n",
       "    </tr>\n",
       "    <tr>\n",
       "      <th>Rock</th>\n",
       "      <th></th>\n",
       "      <th></th>\n",
       "      <th></th>\n",
       "      <th></th>\n",
       "      <th></th>\n",
       "      <th></th>\n",
       "      <th></th>\n",
       "      <th></th>\n",
       "      <th></th>\n",
       "      <th></th>\n",
       "      <th></th>\n",
       "      <th></th>\n",
       "      <th></th>\n",
       "      <th></th>\n",
       "      <th></th>\n",
       "      <th></th>\n",
       "      <th></th>\n",
       "      <th></th>\n",
       "      <th></th>\n",
       "      <th></th>\n",
       "      <th></th>\n",
       "    </tr>\n",
       "  </thead>\n",
       "  <tbody>\n",
       "    <tr>\n",
       "      <th>1</th>\n",
       "      <td>53.0</td>\n",
       "      <td>1.141000</td>\n",
       "      <td>1.272676</td>\n",
       "      <td>0.135</td>\n",
       "      <td>0.3550</td>\n",
       "      <td>0.580</td>\n",
       "      <td>1.4250</td>\n",
       "      <td>5.129</td>\n",
       "      <td>53.0</td>\n",
       "      <td>5.393887</td>\n",
       "      <td>...</td>\n",
       "      <td>46.80</td>\n",
       "      <td>141.00</td>\n",
       "      <td>53.0</td>\n",
       "      <td>60.101887</td>\n",
       "      <td>31.395137</td>\n",
       "      <td>27.20</td>\n",
       "      <td>39.8</td>\n",
       "      <td>47.6</td>\n",
       "      <td>66.8</td>\n",
       "      <td>145.60</td>\n",
       "    </tr>\n",
       "    <tr>\n",
       "      <th>2</th>\n",
       "      <td>85.0</td>\n",
       "      <td>1.346576</td>\n",
       "      <td>0.697658</td>\n",
       "      <td>0.220</td>\n",
       "      <td>0.8100</td>\n",
       "      <td>1.305</td>\n",
       "      <td>1.7400</td>\n",
       "      <td>4.180</td>\n",
       "      <td>85.0</td>\n",
       "      <td>11.048941</td>\n",
       "      <td>...</td>\n",
       "      <td>63.92</td>\n",
       "      <td>172.12</td>\n",
       "      <td>85.0</td>\n",
       "      <td>77.084706</td>\n",
       "      <td>22.929036</td>\n",
       "      <td>28.88</td>\n",
       "      <td>63.6</td>\n",
       "      <td>74.4</td>\n",
       "      <td>86.0</td>\n",
       "      <td>166.28</td>\n",
       "    </tr>\n",
       "    <tr>\n",
       "      <th>3</th>\n",
       "      <td>63.0</td>\n",
       "      <td>1.504952</td>\n",
       "      <td>0.979067</td>\n",
       "      <td>0.280</td>\n",
       "      <td>0.7975</td>\n",
       "      <td>1.215</td>\n",
       "      <td>1.9165</td>\n",
       "      <td>4.020</td>\n",
       "      <td>63.0</td>\n",
       "      <td>9.975238</td>\n",
       "      <td>...</td>\n",
       "      <td>67.20</td>\n",
       "      <td>229.56</td>\n",
       "      <td>63.0</td>\n",
       "      <td>82.747302</td>\n",
       "      <td>28.960698</td>\n",
       "      <td>43.72</td>\n",
       "      <td>63.4</td>\n",
       "      <td>79.6</td>\n",
       "      <td>95.7</td>\n",
       "      <td>219.32</td>\n",
       "    </tr>\n",
       "    <tr>\n",
       "      <th>4</th>\n",
       "      <td>3.0</td>\n",
       "      <td>1.850000</td>\n",
       "      <td>0.870790</td>\n",
       "      <td>1.100</td>\n",
       "      <td>1.3725</td>\n",
       "      <td>1.645</td>\n",
       "      <td>2.2250</td>\n",
       "      <td>2.805</td>\n",
       "      <td>3.0</td>\n",
       "      <td>9.373333</td>\n",
       "      <td>...</td>\n",
       "      <td>55.80</td>\n",
       "      <td>67.60</td>\n",
       "      <td>3.0</td>\n",
       "      <td>66.666667</td>\n",
       "      <td>23.218384</td>\n",
       "      <td>44.00</td>\n",
       "      <td>54.8</td>\n",
       "      <td>65.6</td>\n",
       "      <td>78.0</td>\n",
       "      <td>90.40</td>\n",
       "    </tr>\n",
       "    <tr>\n",
       "      <th>5</th>\n",
       "      <td>55.0</td>\n",
       "      <td>1.159218</td>\n",
       "      <td>0.665111</td>\n",
       "      <td>0.275</td>\n",
       "      <td>0.5560</td>\n",
       "      <td>1.060</td>\n",
       "      <td>1.5665</td>\n",
       "      <td>3.155</td>\n",
       "      <td>55.0</td>\n",
       "      <td>9.595855</td>\n",
       "      <td>...</td>\n",
       "      <td>64.00</td>\n",
       "      <td>116.48</td>\n",
       "      <td>55.0</td>\n",
       "      <td>78.083636</td>\n",
       "      <td>31.069684</td>\n",
       "      <td>25.20</td>\n",
       "      <td>59.2</td>\n",
       "      <td>76.0</td>\n",
       "      <td>88.8</td>\n",
       "      <td>151.60</td>\n",
       "    </tr>\n",
       "  </tbody>\n",
       "</table>\n",
       "<p>5 rows × 56 columns</p>\n",
       "</div>"
      ],
      "text/plain": [
       "        Cd                                                             Co  \\\n",
       "     count      mean       std    min     25%    50%     75%    max count   \n",
       "Rock                                                                        \n",
       "1     53.0  1.141000  1.272676  0.135  0.3550  0.580  1.4250  5.129  53.0   \n",
       "2     85.0  1.346576  0.697658  0.220  0.8100  1.305  1.7400  4.180  85.0   \n",
       "3     63.0  1.504952  0.979067  0.280  0.7975  1.215  1.9165  4.020  63.0   \n",
       "4      3.0  1.850000  0.870790  1.100  1.3725  1.645  2.2250  2.805   3.0   \n",
       "5     55.0  1.159218  0.665111  0.275  0.5560  1.060  1.5665  3.155  55.0   \n",
       "\n",
       "                  ...       Pb            Zn                               \\\n",
       "           mean   ...      75%     max count       mean        std    min   \n",
       "Rock              ...                                                       \n",
       "1      5.393887   ...    46.80  141.00  53.0  60.101887  31.395137  27.20   \n",
       "2     11.048941   ...    63.92  172.12  85.0  77.084706  22.929036  28.88   \n",
       "3      9.975238   ...    67.20  229.56  63.0  82.747302  28.960698  43.72   \n",
       "4      9.373333   ...    55.80   67.60   3.0  66.666667  23.218384  44.00   \n",
       "5      9.595855   ...    64.00  116.48  55.0  78.083636  31.069684  25.20   \n",
       "\n",
       "                                \n",
       "       25%   50%   75%     max  \n",
       "Rock                            \n",
       "1     39.8  47.6  66.8  145.60  \n",
       "2     63.6  74.4  86.0  166.28  \n",
       "3     63.4  79.6  95.7  219.32  \n",
       "4     54.8  65.6  78.0   90.40  \n",
       "5     59.2  76.0  88.8  151.60  \n",
       "\n",
       "[5 rows x 56 columns]"
      ]
     },
     "execution_count": 111,
     "metadata": {},
     "output_type": "execute_result"
    }
   ],
   "source": [
    "#Grouping by Rock\n",
    "rock_groups = jura[['Cd', 'Co', 'Cr', 'Cu', 'Ni', 'Pb', 'Zn', 'Rock']].groupby('Rock')\n",
    "rock_groups.describe()"
   ]
  },
  {
   "cell_type": "code",
   "execution_count": 112,
   "metadata": {},
   "outputs": [
    {
     "data": {
      "text/plain": [
       "40    3\n",
       "41    3\n",
       "42    5\n",
       "43    3\n",
       "44    3\n",
       "45    1\n",
       "46    3\n",
       "47    3\n",
       "48    5\n",
       "49    3\n",
       "50    5\n",
       "Name: Rock, dtype: int64"
      ]
     },
     "execution_count": 112,
     "metadata": {},
     "output_type": "execute_result"
    }
   ],
   "source": [
    "#Imprimindo linhas de 40 a 50 da voluna Rock\n",
    "jura.loc[40:50]['Rock']"
   ]
  },
  {
   "cell_type": "code",
   "execution_count": 113,
   "metadata": {},
   "outputs": [
    {
     "data": {
      "text/plain": [
       "2.2926000000000024"
      ]
     },
     "execution_count": 113,
     "metadata": {},
     "output_type": "execute_result"
    }
   ],
   "source": [
    "#Criando uma nova coluna com os valores de Cd capeados pelo p90\n",
    "p90 = np.percentile(jura['Cd'], 90)\n",
    "jura['Cd_cap'] = np.where(jura['Cd']<p90, jura['Cd'], p90)\n",
    "p90"
   ]
  },
  {
   "cell_type": "code",
   "execution_count": 114,
   "metadata": {},
   "outputs": [
    {
     "data": {
      "text/plain": [
       "2.2926000000000024"
      ]
     },
     "execution_count": 114,
     "metadata": {},
     "output_type": "execute_result"
    }
   ],
   "source": [
    "#Verificando\n",
    "jura.Cd_cap.max(axis=0)"
   ]
  },
  {
   "cell_type": "code",
   "execution_count": 115,
   "metadata": {},
   "outputs": [
    {
     "data": {
      "text/html": [
       "<div>\n",
       "<style scoped>\n",
       "    .dataframe tbody tr th:only-of-type {\n",
       "        vertical-align: middle;\n",
       "    }\n",
       "\n",
       "    .dataframe tbody tr th {\n",
       "        vertical-align: top;\n",
       "    }\n",
       "\n",
       "    .dataframe thead th {\n",
       "        text-align: right;\n",
       "    }\n",
       "</style>\n",
       "<table border=\"1\" class=\"dataframe\">\n",
       "  <thead>\n",
       "    <tr style=\"text-align: right;\">\n",
       "      <th></th>\n",
       "      <th>Xloc</th>\n",
       "      <th>Yloc</th>\n",
       "      <th>Landuse</th>\n",
       "      <th>Rock</th>\n",
       "      <th>Cd</th>\n",
       "      <th>Co</th>\n",
       "      <th>Cr</th>\n",
       "      <th>Cu</th>\n",
       "      <th>Ni</th>\n",
       "      <th>Pb</th>\n",
       "      <th>Zn</th>\n",
       "      <th>Cd_cap</th>\n",
       "    </tr>\n",
       "  </thead>\n",
       "  <tbody>\n",
       "    <tr>\n",
       "      <th>0</th>\n",
       "      <td>238.6</td>\n",
       "      <td>307.7</td>\n",
       "      <td>3</td>\n",
       "      <td>3</td>\n",
       "      <td>1.740</td>\n",
       "      <td>9.32</td>\n",
       "      <td>38.32</td>\n",
       "      <td>25.72</td>\n",
       "      <td>21.32</td>\n",
       "      <td>77.36</td>\n",
       "      <td>92.56</td>\n",
       "      <td>1.740</td>\n",
       "    </tr>\n",
       "    <tr>\n",
       "      <th>1</th>\n",
       "      <td>254.4</td>\n",
       "      <td>197.2</td>\n",
       "      <td>2</td>\n",
       "      <td>2</td>\n",
       "      <td>1.335</td>\n",
       "      <td>10.00</td>\n",
       "      <td>40.20</td>\n",
       "      <td>24.76</td>\n",
       "      <td>29.72</td>\n",
       "      <td>77.88</td>\n",
       "      <td>73.56</td>\n",
       "      <td>1.335</td>\n",
       "    </tr>\n",
       "    <tr>\n",
       "      <th>2</th>\n",
       "      <td>280.7</td>\n",
       "      <td>334.7</td>\n",
       "      <td>2</td>\n",
       "      <td>3</td>\n",
       "      <td>1.610</td>\n",
       "      <td>10.60</td>\n",
       "      <td>47.00</td>\n",
       "      <td>8.88</td>\n",
       "      <td>21.40</td>\n",
       "      <td>30.80</td>\n",
       "      <td>64.80</td>\n",
       "      <td>1.610</td>\n",
       "    </tr>\n",
       "  </tbody>\n",
       "</table>\n",
       "</div>"
      ],
      "text/plain": [
       "    Xloc   Yloc  Landuse  Rock     Cd     Co     Cr     Cu     Ni     Pb  \\\n",
       "0  238.6  307.7        3     3  1.740   9.32  38.32  25.72  21.32  77.36   \n",
       "1  254.4  197.2        2     2  1.335  10.00  40.20  24.76  29.72  77.88   \n",
       "2  280.7  334.7        2     3  1.610  10.60  47.00   8.88  21.40  30.80   \n",
       "\n",
       "      Zn  Cd_cap  \n",
       "0  92.56   1.740  \n",
       "1  73.56   1.335  \n",
       "2  64.80   1.610  "
      ]
     },
     "execution_count": 115,
     "metadata": {},
     "output_type": "execute_result"
    }
   ],
   "source": [
    "#Verificando\n",
    "jura.head(3)"
   ]
  },
  {
   "cell_type": "code",
   "execution_count": 116,
   "metadata": {},
   "outputs": [],
   "source": [
    "#Exportando\n",
    "jura.to_csv('exercicios_export.csv')"
   ]
  },
  {
   "cell_type": "markdown",
   "metadata": {},
   "source": [
    "# exercício de visualização "
   ]
  },
  {
   "cell_type": "markdown",
   "metadata": {},
   "source": [
    "EDA no jura. Se familiarizem com as funções de plot. Usem a função mapa de amostras da aula de plotagem."
   ]
  },
  {
   "cell_type": "code",
   "execution_count": 127,
   "metadata": {},
   "outputs": [
    {
     "data": {
      "image/png": "[encoded data removed]",
      "text/plain": [
       "<Figure size 432x288 with 3 Axes>"
      ]
     },
     "metadata": {},
     "output_type": "display_data"
    }
   ],
   "source": [
    "import matplotlib.pyplot as plt\n",
    "fig, axes = plt.subplots(1,2)\n",
    "axes[0].scatter(jura['Xloc'], jura['Yloc'], c=jura['Cd'])\n",
    "subfig = axes[1].scatter(jura['Xloc'], jura['Yloc'], c=jura['Cu'])\n",
    "fig.colorbar(subfig)\n",
    "plt.show()"
   ]
  },
  {
   "cell_type": "code",
   "execution_count": 128,
   "metadata": {},
   "outputs": [
    {
     "data": {
      "text/plain": [
       "<matplotlib.axes._subplots.AxesSubplot at 0x2635b924710>"
      ]
     },
     "execution_count": 128,
     "metadata": {},
     "output_type": "execute_result"
    },
    {
     "data": {
      "image/png": "[encoded data removed]",
      "text/plain": [
       "<Figure size 432x288 with 1 Axes>"
      ]
     },
     "metadata": {},
     "output_type": "display_data"
    }
   ],
   "source": [
    "jura.plot(kind='scatter', x='Cd', y='Cu')"
   ]
  },
  {
   "cell_type": "code",
   "execution_count": 129,
   "metadata": {},
   "outputs": [
    {
     "data": {
      "text/plain": [
       "<matplotlib.axes._subplots.AxesSubplot at 0x2635b9c8b70>"
      ]
     },
     "execution_count": 129,
     "metadata": {},
     "output_type": "execute_result"
    },
    {
     "data": {
      "image/png": "[encoded data removed]",
      "text/plain": [
       "<Figure size 432x288 with 1 Axes>"
      ]
     },
     "metadata": {},
     "output_type": "display_data"
    }
   ],
   "source": [
    "jura['Cu'].plot(kind='hist')"
   ]
  },
  {
   "cell_type": "code",
   "execution_count": 130,
   "metadata": {},
   "outputs": [],
   "source": [
    "variables = ('Cd', 'Co', 'Cr', 'Cu', 'Ni', 'Pb', 'Zn')"
   ]
  },
  {
   "cell_type": "code",
   "execution_count": 131,
   "metadata": {},
   "outputs": [
    {
     "data": {
      "image/png": "[encoded data removed]",
      "text/plain": [
       "<Figure size 1152x864 with 9 Axes>"
      ]
     },
     "metadata": {},
     "output_type": "display_data"
    }
   ],
   "source": [
    "fig, axes = plt.subplots(3, 3, figsize=(16, 12))\n",
    "axes = axes.flatten()\n",
    "for ax, var, title in zip(axes, variables, variables):\n",
    "    ax.hist(data[var])\n",
    "    #ax.set_title(var)\n",
    "    ax.set_ylabel('Frequência')\n",
    "    ax.set_xlabel(var)"
   ]
  },
  {
   "cell_type": "code",
   "execution_count": null,
   "metadata": {},
   "outputs": [],
   "source": []
  }
 ],
 "metadata": {
  "kernelspec": {
   "display_name": "Python 3",
   "language": "python",
   "name": "python3"
  },
  "language_info": {
   "codemirror_mode": {
    "name": "ipython",
    "version": 3
   },
   "file_extension": ".py",
   "mimetype": "text/x-python",
   "name": "python",
   "nbconvert_exporter": "python",
   "pygments_lexer": "ipython3",
   "version": "3.6.5"
  }
 },
 "nbformat": 4,
 "nbformat_minor": 2
}
